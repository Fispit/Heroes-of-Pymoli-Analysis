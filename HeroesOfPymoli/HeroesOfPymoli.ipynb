{
 "cells": [
  {
   "cell_type": "markdown",
   "metadata": {},
   "source": [
    "### Note\n",
    "* Instructions have been included for each segment. You do not have to follow them exactly, but they are included to help you think through the steps."
   ]
  },
  {
   "cell_type": "code",
   "execution_count": 3,
   "metadata": {},
   "outputs": [],
   "source": [
    "# Dependencies and Setup\n",
    "import pandas as pd\n",
    "import numpy as np\n",
    "# File to Load (Remember to Change These)\n",
    "file_to_load = \"Resources/purchase_data.csv\"\n",
    "\n",
    "# Read Purchasing File and store into Pandas data frame\n",
    "purchase_data = pd.read_csv(file_to_load)"
   ]
  },
  {
   "cell_type": "markdown",
   "metadata": {},
   "source": [
    "## Player Count"
   ]
  },
  {
   "cell_type": "markdown",
   "metadata": {},
   "source": [
    "* Display the total number of players\n"
   ]
  },
  {
   "cell_type": "code",
   "execution_count": 4,
   "metadata": {},
   "outputs": [
    {
     "output_type": "execute_result",
     "data": {
      "text/plain": [
       "576"
      ]
     },
     "metadata": {},
     "execution_count": 4
    }
   ],
   "source": [
    "playercount=purchase_data[\"SN\"].nunique()\n",
    "uniqueplayers=(purchase_data[\"SN\"].unique())\n",
    "playercount\n"
   ]
  },
  {
   "cell_type": "markdown",
   "metadata": {},
   "source": [
    "## Purchasing Analysis (Total)"
   ]
  },
  {
   "cell_type": "markdown",
   "metadata": {},
   "source": [
    "* Run basic calculations to obtain number of unique items, average price, etc.\n",
    "\n",
    "\n",
    "* Create a summary data frame to hold the results\n",
    "\n",
    "\n",
    "* Optional: give the displayed data cleaner formatting\n",
    "\n",
    "\n",
    "* Display the summary data frame\n"
   ]
  },
  {
   "cell_type": "code",
   "execution_count": 92,
   "metadata": {
    "scrolled": true
   },
   "outputs": [
    {
     "output_type": "execute_result",
     "data": {
      "text/plain": [
       "<pandas.io.formats.style.Styler at 0x134447d6bb0>"
      ],
      "text/html": "<style  type=\"text/css\" >\n</style><table id=\"T_0565b2b7_97f2_11eb_87e2_bc542f2e4dec\" ><thead>    <tr>        <th class=\"col_heading level0 col0\" >Number of Unique Items</th>        <th class=\"col_heading level0 col1\" >Average Price</th>        <th class=\"col_heading level0 col2\" >Number of Purchases</th>        <th class=\"col_heading level0 col3\" >Total Sales</th>    </tr></thead><tbody>\n                <tr>\n                                <td id=\"T_0565b2b7_97f2_11eb_87e2_bc542f2e4decrow0_col0\" class=\"data row0 col0\" >179</td>\n                        <td id=\"T_0565b2b7_97f2_11eb_87e2_bc542f2e4decrow0_col1\" class=\"data row0 col1\" >$3.050987179487176</td>\n                        <td id=\"T_0565b2b7_97f2_11eb_87e2_bc542f2e4decrow0_col2\" class=\"data row0 col2\" >779</td>\n                        <td id=\"T_0565b2b7_97f2_11eb_87e2_bc542f2e4decrow0_col3\" class=\"data row0 col3\" >$2379.77</td>\n            </tr>\n    </tbody></table>"
     },
     "metadata": {},
     "execution_count": 92
    }
   ],
   "source": [
    "uniqueitems=purchase_data[\"Item Name\"].nunique()\n",
    "avgprice=purchase_data[\"Price\"].mean()\n",
    "totalssales=purchase_data[\"Price\"].sum()\n",
    "numpurchases=purchase_data[\"Purchase ID\"].max()\n",
    "framedata={\"Number of Unique Items\":[uniqueitems],\"Average Price\":f\"${avgprice}\",\"Number of Purchases\":[numpurchases],\"Total Sales\":f\"${totalssales}\"}\n",
    "sales_df=pd.DataFrame(framedata)\n",
    "sales_df.style.hide_index()"
   ]
  },
  {
   "cell_type": "markdown",
   "metadata": {},
   "source": [
    "## Gender Demographics"
   ]
  },
  {
   "cell_type": "markdown",
   "metadata": {},
   "source": [
    "* Percentage and Count of Male Players\n",
    "\n",
    "\n",
    "* Percentage and Count of Female Players\n",
    "\n",
    "\n",
    "* Percentage and Count of Other / Non-Disclosed\n",
    "\n",
    "\n"
   ]
  },
  {
   "cell_type": "code",
   "execution_count": 88,
   "metadata": {},
   "outputs": [
    {
     "output_type": "execute_result",
     "data": {
      "text/plain": [
       "                       Gender  Percentage\n",
       "Male                      484   84.027778\n",
       "Female                     81   14.062500\n",
       "Other / Non-Disclosed      11    1.909722"
      ],
      "text/html": "<div>\n<style scoped>\n    .dataframe tbody tr th:only-of-type {\n        vertical-align: middle;\n    }\n\n    .dataframe tbody tr th {\n        vertical-align: top;\n    }\n\n    .dataframe thead th {\n        text-align: right;\n    }\n</style>\n<table border=\"1\" class=\"dataframe\">\n  <thead>\n    <tr style=\"text-align: right;\">\n      <th></th>\n      <th>Gender</th>\n      <th>Percentage</th>\n    </tr>\n  </thead>\n  <tbody>\n    <tr>\n      <th>Male</th>\n      <td>484</td>\n      <td>84.027778</td>\n    </tr>\n    <tr>\n      <th>Female</th>\n      <td>81</td>\n      <td>14.062500</td>\n    </tr>\n    <tr>\n      <th>Other / Non-Disclosed</th>\n      <td>11</td>\n      <td>1.909722</td>\n    </tr>\n  </tbody>\n</table>\n</div>"
     },
     "metadata": {},
     "execution_count": 88
    }
   ],
   "source": [
    "#This is for my first, and manual, attempt\n",
    "genderlist=[]\n",
    "agelist=[]\n",
    "for name in uniqueplayers:\n",
    "    newname_df=purchase_data.query(\"SN==@name\")\n",
    "    gender=newname_df[\"Gender\"].iloc[0]\n",
    "    age=newname_df[\"Age\"].iloc[0]\n",
    "    genderlist.append(gender)\n",
    "    agelist.append(age)\n",
    "\n",
    "\n",
    "unique_values={\"SN\":uniqueplayers,\"Gender\":genderlist,\"Age\":agelist}\n",
    "genderlist=[]\n",
    "u_users_pd=pd.DataFrame(unique_values)\n",
    "uniquegendercount=u_users_pd[\"Gender\"].value_counts()\n",
    "genderframe_pd=pd.DataFrame(uniquegendercount)\n",
    "genderframe_pd[\"Percentage\"]=genderframe_pd*100/playercount\n",
    "genderframe_pd.rename(columns={\"Gender\":\"Count\"})\n",
    "genderframe_pd\n"
   ]
  },
  {
   "cell_type": "code",
   "execution_count": 19,
   "metadata": {},
   "outputs": [
    {
     "output_type": "execute_result",
     "data": {
      "text/plain": [
       "                       Gender Counts Percentage Total\n",
       "Gender                                               \n",
       "Female                            81           14.06%\n",
       "Male                             484           84.03%\n",
       "Other / Non-Disclosed             11            1.91%"
      ],
      "text/html": "<div>\n<style scoped>\n    .dataframe tbody tr th:only-of-type {\n        vertical-align: middle;\n    }\n\n    .dataframe tbody tr th {\n        vertical-align: top;\n    }\n\n    .dataframe thead th {\n        text-align: right;\n    }\n</style>\n<table border=\"1\" class=\"dataframe\">\n  <thead>\n    <tr style=\"text-align: right;\">\n      <th></th>\n      <th>Gender Counts</th>\n      <th>Percentage Total</th>\n    </tr>\n    <tr>\n      <th>Gender</th>\n      <th></th>\n      <th></th>\n    </tr>\n  </thead>\n  <tbody>\n    <tr>\n      <th>Female</th>\n      <td>81</td>\n      <td>14.06%</td>\n    </tr>\n    <tr>\n      <th>Male</th>\n      <td>484</td>\n      <td>84.03%</td>\n    </tr>\n    <tr>\n      <th>Other / Non-Disclosed</th>\n      <td>11</td>\n      <td>1.91%</td>\n    </tr>\n  </tbody>\n</table>\n</div>"
     },
     "metadata": {},
     "execution_count": 19
    }
   ],
   "source": [
    "genderpurchase=purchase_data.groupby(\"Gender\")\n",
    "genderpurchase=pd.DataFrame(genderpurchase[\"SN\"].nunique())\n",
    "genderpurchase=genderpurchase.rename(columns={\"SN\":\"Gender Counts\"})\n",
    "genderpurchase[\"Percentage Total\"]=genderpurchase[\"Gender Counts\"]*100/genderpurchase[\"Gender Counts\"].sum()\n",
    "genderpurchase[\"Percentage Total\"]=genderpurchase[\"Percentage Total\"].astype(float).map(\n",
    "    \"{:,.2f}%\".format)\n",
    "genderpurchase"
   ]
  },
  {
   "cell_type": "markdown",
   "metadata": {},
   "source": [
    "\n",
    "## Purchasing Analysis (Gender)"
   ]
  },
  {
   "cell_type": "markdown",
   "metadata": {},
   "source": [
    "* Run basic calculations to obtain purchase count, avg. purchase price, avg. purchase total per person etc. by gender\n",
    "\n",
    "\n",
    "\n",
    "\n",
    "* Create a summary data frame to hold the results\n",
    "\n",
    "\n",
    "* Optional: give the displayed data cleaner formatting\n",
    "\n",
    "\n",
    "* Display the summary data frame"
   ]
  },
  {
   "cell_type": "code",
   "execution_count": 85,
   "metadata": {},
   "outputs": [
    {
     "output_type": "execute_result",
     "data": {
      "text/plain": [
       "<pandas.io.formats.style.Styler at 0x134431ff700>"
      ],
      "text/html": "<style  type=\"text/css\" >\n</style><table id=\"T_43c1cd1e_97ef_11eb_8698_bc542f2e4dec\" ><thead>    <tr>        <th class=\"col_heading level0 col0\" >Gender</th>        <th class=\"col_heading level0 col1\" >Purchase Count</th>        <th class=\"col_heading level0 col2\" >Average Purchase</th>        <th class=\"col_heading level0 col3\" >Total Purchase Value</th>        <th class=\"col_heading level0 col4\" >Avg Total Purchase Per Person</th>    </tr></thead><tbody>\n                <tr>\n                                <td id=\"T_43c1cd1e_97ef_11eb_8698_bc542f2e4decrow0_col0\" class=\"data row0 col0\" >Male</td>\n                        <td id=\"T_43c1cd1e_97ef_11eb_8698_bc542f2e4decrow0_col1\" class=\"data row0 col1\" >652</td>\n                        <td id=\"T_43c1cd1e_97ef_11eb_8698_bc542f2e4decrow0_col2\" class=\"data row0 col2\" >$3.01</td>\n                        <td id=\"T_43c1cd1e_97ef_11eb_8698_bc542f2e4decrow0_col3\" class=\"data row0 col3\" >$1967.64</td>\n                        <td id=\"T_43c1cd1e_97ef_11eb_8698_bc542f2e4decrow0_col4\" class=\"data row0 col4\" >$4.065</td>\n            </tr>\n            <tr>\n                                <td id=\"T_43c1cd1e_97ef_11eb_8698_bc542f2e4decrow1_col0\" class=\"data row1 col0\" >Female</td>\n                        <td id=\"T_43c1cd1e_97ef_11eb_8698_bc542f2e4decrow1_col1\" class=\"data row1 col1\" >113</td>\n                        <td id=\"T_43c1cd1e_97ef_11eb_8698_bc542f2e4decrow1_col2\" class=\"data row1 col2\" >$3.20</td>\n                        <td id=\"T_43c1cd1e_97ef_11eb_8698_bc542f2e4decrow1_col3\" class=\"data row1 col3\" >$361.94</td>\n                        <td id=\"T_43c1cd1e_97ef_11eb_8698_bc542f2e4decrow1_col4\" class=\"data row1 col4\" >$4.468</td>\n            </tr>\n            <tr>\n                                <td id=\"T_43c1cd1e_97ef_11eb_8698_bc542f2e4decrow2_col0\" class=\"data row2 col0\" >Other / Non-Disclosed</td>\n                        <td id=\"T_43c1cd1e_97ef_11eb_8698_bc542f2e4decrow2_col1\" class=\"data row2 col1\" >15</td>\n                        <td id=\"T_43c1cd1e_97ef_11eb_8698_bc542f2e4decrow2_col2\" class=\"data row2 col2\" >$3.34</td>\n                        <td id=\"T_43c1cd1e_97ef_11eb_8698_bc542f2e4decrow2_col3\" class=\"data row2 col3\" >$50.19</td>\n                        <td id=\"T_43c1cd1e_97ef_11eb_8698_bc542f2e4decrow2_col4\" class=\"data row2 col4\" >$4.562</td>\n            </tr>\n    </tbody></table>"
     },
     "metadata": {},
     "execution_count": 85
    }
   ],
   "source": [
    "#Manual Version\n",
    "genderlist=purchase_data[\"Gender\"].value_counts().keys().tolist()\n",
    "genpurchases=purchase_data[\"Gender\"].value_counts().tolist()\n",
    "avgpurchase=[]\n",
    "totalpurchase=[]\n",
    "avgpurchasepp=[]\n",
    "for gender in genderlist:\n",
    "    genderdata=purchase_data.loc[purchase_data[\"Gender\"]==gender]\n",
    "    avergen=genderdata.iloc[:,6].mean()\n",
    "    avergen=str(avergen)\n",
    "    avgpurchase.append(\"$\"+avergen[0:4])\n",
    "    sumgen=genderdata.iloc[:,6].sum()\n",
    "    sumgen=str(sumgen)\n",
    "    totalpurchase.append(\"$\"+sumgen)\n",
    "    gendermembervalues=genderdata[\"SN\"].unique()\n",
    "    individualmemsales=[]\n",
    "    for element in gendermembervalues:\n",
    "        newname_df=purchase_data.query(\"SN==@element\")\n",
    "        membersum=newname_df.iloc[:,6].sum()\n",
    "        individualmemsales.append(membersum)\n",
    "    individualavg=\"$\"+str(np.mean(individualmemsales))\n",
    "    avgpurchasepp.append(individualavg[0:6])\n",
    "\n",
    "genderframe={\"Gender\":genderlist,\"Purchase Count\":genderpurchases,\"Average Purchase\":avgpurchase,\"Total Purchase Value\":totalpurchase,\"Avg Total Purchase Per Person\":avgpurchasepp}\n",
    "\n",
    "genderpurchasestats__df=pd.DataFrame(genderframe)\n",
    "genderpurchasestats__df.style.hide_index()\n"
   ]
  },
  {
   "cell_type": "code",
   "execution_count": 122,
   "metadata": {},
   "outputs": [
    {
     "output_type": "execute_result",
     "data": {
      "text/plain": [
       "                       Number of Purchases Average Purchase  \\\n",
       "Gender                                                        \n",
       "Female                                 113            $3.20   \n",
       "Male                                   652            $3.02   \n",
       "Other / Non-Disclosed                   15            $3.35   \n",
       "\n",
       "                      Total Purchase Value Avg Total Purchase Per Person  \n",
       "Gender                                                                    \n",
       "Female                             $361.94                         $4.07  \n",
       "Male                             $1,967.64                         $4.47  \n",
       "Other / Non-Disclosed               $50.19                         $4.56  "
      ],
      "text/html": "<div>\n<style scoped>\n    .dataframe tbody tr th:only-of-type {\n        vertical-align: middle;\n    }\n\n    .dataframe tbody tr th {\n        vertical-align: top;\n    }\n\n    .dataframe thead th {\n        text-align: right;\n    }\n</style>\n<table border=\"1\" class=\"dataframe\">\n  <thead>\n    <tr style=\"text-align: right;\">\n      <th></th>\n      <th>Number of Purchases</th>\n      <th>Average Purchase</th>\n      <th>Total Purchase Value</th>\n      <th>Avg Total Purchase Per Person</th>\n    </tr>\n    <tr>\n      <th>Gender</th>\n      <th></th>\n      <th></th>\n      <th></th>\n      <th></th>\n    </tr>\n  </thead>\n  <tbody>\n    <tr>\n      <th>Female</th>\n      <td>113</td>\n      <td>$3.20</td>\n      <td>$361.94</td>\n      <td>$4.07</td>\n    </tr>\n    <tr>\n      <th>Male</th>\n      <td>652</td>\n      <td>$3.02</td>\n      <td>$1,967.64</td>\n      <td>$4.47</td>\n    </tr>\n    <tr>\n      <th>Other / Non-Disclosed</th>\n      <td>15</td>\n      <td>$3.35</td>\n      <td>$50.19</td>\n      <td>$4.56</td>\n    </tr>\n  </tbody>\n</table>\n</div>"
     },
     "metadata": {},
     "execution_count": 122
    }
   ],
   "source": [
    "gendertable=purchase_data.groupby(\"Gender\")\n",
    "gendertable_df=pd.DataFrame(gendertable[\"Purchase ID\"].nunique())\n",
    "gendertable_df=gendertable_df.rename(columns={\"Purchase ID\":\"Number of Purchases\"})\n",
    "gendertable_df[\"Average Purchase\"]=gendertable[\"Price\"].mean()\n",
    "gendertable_df[\"Total Purchase Value\"]=gendertable[\"Price\"].sum()\n",
    "temp=purchase_data.groupby([\"Gender\",\"SN\"])\n",
    "genderlist=purchase_data[\"Gender\"].value_counts().keys().tolist()\n",
    "temp=temp[\"Price\"].sum()\n",
    "gendertable_df[\"Avg Total Purchase Per Person\"]=[temp.loc[genderlist[0]].mean(),temp.loc[genderlist[1]].mean(),temp.loc[genderlist[2]].mean()]\n",
    "gendertable_df[\"Average Purchase\"]=gendertable_df[\"Average Purchase\"].astype(float).map(\"${:,.2f}\".format)\n",
    "gendertable_df[\"Total Purchase Value\"]=gendertable_df[\"Total Purchase Value\"].astype(float).map(\"${:,.2f}\".format)\n",
    "gendertable_df[\"Avg Total Purchase Per Person\"]=gendertable_df[\"Avg Total Purchase Per Person\"].astype(float).map(\"${:,.2f}\".format)\n",
    "gendertable_df"
   ]
  },
  {
   "cell_type": "markdown",
   "metadata": {},
   "source": [
    "## Age Demographics"
   ]
  },
  {
   "cell_type": "markdown",
   "metadata": {},
   "source": [
    "* Establish bins for ages\n",
    "\n",
    "\n",
    "* Categorize the existing players using the age bins. Hint: use pd.cut()\n",
    "\n",
    "\n",
    "* Calculate the numbers and percentages by age group\n",
    "\n",
    "\n",
    "* Create a summary data frame to hold the results\n",
    "\n",
    "\n",
    "* Optional: round the percentage column to two decimal points\n",
    "\n",
    "\n",
    "* Display Age Demographics Table\n"
   ]
  },
  {
   "cell_type": "code",
   "execution_count": 103,
   "metadata": {},
   "outputs": [
    {
     "output_type": "execute_result",
     "data": {
      "text/plain": [
       "              Users in Age Category Percentage Total\n",
       "Age Category                                        \n",
       "<10                              17            2.95%\n",
       "10-14                            22            3.82%\n",
       "15-19                           107           18.58%\n",
       "20-24                           258           44.79%\n",
       "25-29                            77           13.37%\n",
       "30-34                            52            9.03%\n",
       "35-39                            31            5.38%\n",
       "40+                              12            2.08%"
      ],
      "text/html": "<div>\n<style scoped>\n    .dataframe tbody tr th:only-of-type {\n        vertical-align: middle;\n    }\n\n    .dataframe tbody tr th {\n        vertical-align: top;\n    }\n\n    .dataframe thead th {\n        text-align: right;\n    }\n</style>\n<table border=\"1\" class=\"dataframe\">\n  <thead>\n    <tr style=\"text-align: right;\">\n      <th></th>\n      <th>Users in Age Category</th>\n      <th>Percentage Total</th>\n    </tr>\n    <tr>\n      <th>Age Category</th>\n      <th></th>\n      <th></th>\n    </tr>\n  </thead>\n  <tbody>\n    <tr>\n      <th>&lt;10</th>\n      <td>17</td>\n      <td>2.95%</td>\n    </tr>\n    <tr>\n      <th>10-14</th>\n      <td>22</td>\n      <td>3.82%</td>\n    </tr>\n    <tr>\n      <th>15-19</th>\n      <td>107</td>\n      <td>18.58%</td>\n    </tr>\n    <tr>\n      <th>20-24</th>\n      <td>258</td>\n      <td>44.79%</td>\n    </tr>\n    <tr>\n      <th>25-29</th>\n      <td>77</td>\n      <td>13.37%</td>\n    </tr>\n    <tr>\n      <th>30-34</th>\n      <td>52</td>\n      <td>9.03%</td>\n    </tr>\n    <tr>\n      <th>35-39</th>\n      <td>31</td>\n      <td>5.38%</td>\n    </tr>\n    <tr>\n      <th>40+</th>\n      <td>12</td>\n      <td>2.08%</td>\n    </tr>\n  </tbody>\n</table>\n</div>"
     },
     "metadata": {},
     "execution_count": 103
    }
   ],
   "source": [
    "Agebins=[\"<10\",\"10-14\",\"15-19\",\"20-24\",\"25-29\",\"30-34\",\"35-39\",\"40+\"]\n",
    "agebinsq=[0,9,14,19,24,29,34,39,999]\n",
    "purchase_data_age=purchase_data\n",
    "purchase_data_age[\"Age Category\"]=pd.cut(purchase_data[\"Age\"],agebinsq,labels=Agebins,include_lowest=True)\n",
    "temp=purchase_data_age.groupby(\"Age Category\")\n",
    "ageorder=pd.DataFrame(temp[\"SN\"].nunique())\n",
    "ageorder=ageorder.rename(columns={\"SN\":\"Users in Age Category\"})\n",
    "ageorder[\"Percentage Total\"]=ageorder[\"Users in Age Category\"]*100/ageorder[\"Users in Age Category\"].sum()\n",
    "ageorder[\"Percentage Total\"]=ageorder[\"Percentage Total\"].astype(float).map(\n",
    "    \"{:,.2f}%\".format)\n",
    "ageorder"
   ]
  },
  {
   "cell_type": "code",
   "execution_count": 86,
   "metadata": {},
   "outputs": [
    {
     "output_type": "execute_result",
     "data": {
      "text/plain": [
       "<pandas.io.formats.style.Styler at 0x134447c29a0>"
      ],
      "text/html": "<style  type=\"text/css\" >\n</style><table id=\"T_4d3a17e9_97ef_11eb_8d6c_bc542f2e4dec\" ><thead>    <tr>        <th class=\"col_heading level0 col0\" >Age Bracket</th>        <th class=\"col_heading level0 col1\" >Total Count</th>        <th class=\"col_heading level0 col2\" >Percentage of Players</th>    </tr></thead><tbody>\n                <tr>\n                                <td id=\"T_4d3a17e9_97ef_11eb_8d6c_bc542f2e4decrow0_col0\" class=\"data row0 col0\" ><10</td>\n                        <td id=\"T_4d3a17e9_97ef_11eb_8d6c_bc542f2e4decrow0_col1\" class=\"data row0 col1\" >17</td>\n                        <td id=\"T_4d3a17e9_97ef_11eb_8d6c_bc542f2e4decrow0_col2\" class=\"data row0 col2\" >2.951%</td>\n            </tr>\n            <tr>\n                                <td id=\"T_4d3a17e9_97ef_11eb_8d6c_bc542f2e4decrow1_col0\" class=\"data row1 col0\" >10-14</td>\n                        <td id=\"T_4d3a17e9_97ef_11eb_8d6c_bc542f2e4decrow1_col1\" class=\"data row1 col1\" >22</td>\n                        <td id=\"T_4d3a17e9_97ef_11eb_8d6c_bc542f2e4decrow1_col2\" class=\"data row1 col2\" >3.819%</td>\n            </tr>\n            <tr>\n                                <td id=\"T_4d3a17e9_97ef_11eb_8d6c_bc542f2e4decrow2_col0\" class=\"data row2 col0\" >15-19</td>\n                        <td id=\"T_4d3a17e9_97ef_11eb_8d6c_bc542f2e4decrow2_col1\" class=\"data row2 col1\" >107</td>\n                        <td id=\"T_4d3a17e9_97ef_11eb_8d6c_bc542f2e4decrow2_col2\" class=\"data row2 col2\" >18.57%</td>\n            </tr>\n            <tr>\n                                <td id=\"T_4d3a17e9_97ef_11eb_8d6c_bc542f2e4decrow3_col0\" class=\"data row3 col0\" >20-24</td>\n                        <td id=\"T_4d3a17e9_97ef_11eb_8d6c_bc542f2e4decrow3_col1\" class=\"data row3 col1\" >258</td>\n                        <td id=\"T_4d3a17e9_97ef_11eb_8d6c_bc542f2e4decrow3_col2\" class=\"data row3 col2\" >44.79%</td>\n            </tr>\n            <tr>\n                                <td id=\"T_4d3a17e9_97ef_11eb_8d6c_bc542f2e4decrow4_col0\" class=\"data row4 col0\" >25-29</td>\n                        <td id=\"T_4d3a17e9_97ef_11eb_8d6c_bc542f2e4decrow4_col1\" class=\"data row4 col1\" >77</td>\n                        <td id=\"T_4d3a17e9_97ef_11eb_8d6c_bc542f2e4decrow4_col2\" class=\"data row4 col2\" >13.36%</td>\n            </tr>\n            <tr>\n                                <td id=\"T_4d3a17e9_97ef_11eb_8d6c_bc542f2e4decrow5_col0\" class=\"data row5 col0\" >30-34</td>\n                        <td id=\"T_4d3a17e9_97ef_11eb_8d6c_bc542f2e4decrow5_col1\" class=\"data row5 col1\" >52</td>\n                        <td id=\"T_4d3a17e9_97ef_11eb_8d6c_bc542f2e4decrow5_col2\" class=\"data row5 col2\" >9.027%</td>\n            </tr>\n            <tr>\n                                <td id=\"T_4d3a17e9_97ef_11eb_8d6c_bc542f2e4decrow6_col0\" class=\"data row6 col0\" >35-39</td>\n                        <td id=\"T_4d3a17e9_97ef_11eb_8d6c_bc542f2e4decrow6_col1\" class=\"data row6 col1\" >31</td>\n                        <td id=\"T_4d3a17e9_97ef_11eb_8d6c_bc542f2e4decrow6_col2\" class=\"data row6 col2\" >5.381%</td>\n            </tr>\n            <tr>\n                                <td id=\"T_4d3a17e9_97ef_11eb_8d6c_bc542f2e4decrow7_col0\" class=\"data row7 col0\" >40+</td>\n                        <td id=\"T_4d3a17e9_97ef_11eb_8d6c_bc542f2e4decrow7_col1\" class=\"data row7 col1\" >12</td>\n                        <td id=\"T_4d3a17e9_97ef_11eb_8d6c_bc542f2e4decrow7_col2\" class=\"data row7 col2\" >2.083%</td>\n            </tr>\n    </tbody></table>"
     },
     "metadata": {},
     "execution_count": 86
    }
   ],
   "source": [
    "#Establishing Bins the Manual Way\n",
    "Agebins=[\"<10\",\"10-14\",\"15-19\",\"20-24\",\"25-29\",\"30-34\",\"35-39\",\"40+\"]\n",
    "agebinsq=[0,0,0,0,0,0,0,0]\n",
    "for element in unique_values[\"Age\"]:\n",
    "    if element<10:\n",
    "        agebinsq[0]+=1\n",
    "    elif element<15:\n",
    "        agebinsq[1]+=1\n",
    "    elif element<20:\n",
    "        agebinsq[2]+=1\n",
    "    elif element<25:\n",
    "        agebinsq[3]+=1\n",
    "    elif element<30:\n",
    "        agebinsq[4]+=1\n",
    "    elif element<35:\n",
    "        agebinsq[5]+=1\n",
    "    elif element<40:\n",
    "        agebinsq[6]+=1\n",
    "    elif element>=40:\n",
    "        agebinsq[7]+=1\n",
    "agebinspcnt=[]\n",
    "\n",
    "for element in agebinsq:\n",
    "    percent=element/sum(agebinsq)*100\n",
    "    percentstr=str(percent)\n",
    "    percentstr=percentstr[0:5]+\"%\"\n",
    "    agebinspcnt.append(percentstr)\n",
    "\n",
    "framedata={\"Age Bracket\":Agebins,\"Total Count\":agebinsq,\"Percentage of Players\":agebinspcnt}\n",
    "agedata_df=pd.DataFrame(framedata)\n",
    "agedata_df.style.hide_index()"
   ]
  },
  {
   "cell_type": "markdown",
   "metadata": {},
   "source": [
    "## Purchasing Analysis (Age)"
   ]
  },
  {
   "cell_type": "markdown",
   "metadata": {},
   "source": [
    "* Bin the purchase_data data frame by age\n",
    "\n",
    "\n",
    "* Run basic calculations to obtain purchase count, avg. purchase price, avg. purchase total per person etc. in the table below\n",
    "\n",
    "\n",
    "* Create a summary data frame to hold the results\n",
    "\n",
    "\n",
    "* Optional: give the displayed data cleaner formatting\n",
    "\n",
    "\n",
    "* Display the summary data frame"
   ]
  },
  {
   "cell_type": "code",
   "execution_count": 136,
   "metadata": {},
   "outputs": [
    {
     "output_type": "error",
     "ename": "IndexingError",
     "evalue": "Too many indexers",
     "traceback": [
      "\u001b[1;31m---------------------------------------------------------------------------\u001b[0m",
      "\u001b[1;31mIndexingError\u001b[0m                             Traceback (most recent call last)",
      "\u001b[1;32m<ipython-input-136-907dd4d0e324>\u001b[0m in \u001b[0;36m<module>\u001b[1;34m\u001b[0m\n\u001b[0;32m     15\u001b[0m \u001b[0mtotalperperson\u001b[0m\u001b[1;33m=\u001b[0m\u001b[1;33m[\u001b[0m\u001b[1;33m]\u001b[0m\u001b[1;33m\u001b[0m\u001b[1;33m\u001b[0m\u001b[0m\n\u001b[0;32m     16\u001b[0m \u001b[1;32mfor\u001b[0m \u001b[0mvalue\u001b[0m \u001b[1;32min\u001b[0m \u001b[0mrange\u001b[0m\u001b[1;33m(\u001b[0m\u001b[1;36m0\u001b[0m\u001b[1;33m,\u001b[0m\u001b[0mlen\u001b[0m\u001b[1;33m(\u001b[0m\u001b[0mAgebins\u001b[0m\u001b[1;33m)\u001b[0m\u001b[1;33m)\u001b[0m\u001b[1;33m:\u001b[0m\u001b[1;33m\u001b[0m\u001b[1;33m\u001b[0m\u001b[0m\n\u001b[1;32m---> 17\u001b[1;33m     \u001b[0mtotalperperson\u001b[0m\u001b[1;33m.\u001b[0m\u001b[0mappend\u001b[0m\u001b[1;33m(\u001b[0m\u001b[0mtemp\u001b[0m\u001b[1;33m.\u001b[0m\u001b[0mloc\u001b[0m\u001b[1;33m[\u001b[0m\u001b[0magelist\u001b[0m\u001b[1;33m[\u001b[0m\u001b[0mvalue\u001b[0m\u001b[1;33m]\u001b[0m\u001b[1;33m]\u001b[0m\u001b[1;33m.\u001b[0m\u001b[0mmean\u001b[0m\u001b[1;33m(\u001b[0m\u001b[1;33m)\u001b[0m\u001b[1;33m)\u001b[0m\u001b[1;33m\u001b[0m\u001b[1;33m\u001b[0m\u001b[0m\n\u001b[0m\u001b[0;32m     18\u001b[0m \u001b[1;33m\u001b[0m\u001b[0m\n\u001b[0;32m     19\u001b[0m \u001b[0magetable_df\u001b[0m\u001b[1;33m[\u001b[0m\u001b[1;34m\"Avg Total Purchase Per Person\"\u001b[0m\u001b[1;33m]\u001b[0m\u001b[1;33m=\u001b[0m\u001b[0mtotalperperson\u001b[0m\u001b[1;33m\u001b[0m\u001b[1;33m\u001b[0m\u001b[0m\n",
      "\u001b[1;32m~\\anaconda3\\lib\\site-packages\\pandas\\core\\indexing.py\u001b[0m in \u001b[0;36m__getitem__\u001b[1;34m(self, key)\u001b[0m\n\u001b[0;32m    871\u001b[0m                     \u001b[1;31m# AttributeError for IntervalTree get_value\u001b[0m\u001b[1;33m\u001b[0m\u001b[1;33m\u001b[0m\u001b[1;33m\u001b[0m\u001b[0m\n\u001b[0;32m    872\u001b[0m                     \u001b[1;32mpass\u001b[0m\u001b[1;33m\u001b[0m\u001b[1;33m\u001b[0m\u001b[0m\n\u001b[1;32m--> 873\u001b[1;33m             \u001b[1;32mreturn\u001b[0m \u001b[0mself\u001b[0m\u001b[1;33m.\u001b[0m\u001b[0m_getitem_tuple\u001b[0m\u001b[1;33m(\u001b[0m\u001b[0mkey\u001b[0m\u001b[1;33m)\u001b[0m\u001b[1;33m\u001b[0m\u001b[1;33m\u001b[0m\u001b[0m\n\u001b[0m\u001b[0;32m    874\u001b[0m         \u001b[1;32melse\u001b[0m\u001b[1;33m:\u001b[0m\u001b[1;33m\u001b[0m\u001b[1;33m\u001b[0m\u001b[0m\n\u001b[0;32m    875\u001b[0m             \u001b[1;31m# we by definition only have the 0th axis\u001b[0m\u001b[1;33m\u001b[0m\u001b[1;33m\u001b[0m\u001b[1;33m\u001b[0m\u001b[0m\n",
      "\u001b[1;32m~\\anaconda3\\lib\\site-packages\\pandas\\core\\indexing.py\u001b[0m in \u001b[0;36m_getitem_tuple\u001b[1;34m(self, tup)\u001b[0m\n\u001b[0;32m   1047\u001b[0m \u001b[1;33m\u001b[0m\u001b[0m\n\u001b[0;32m   1048\u001b[0m         \u001b[1;31m# no multi-index, so validate all of the indexers\u001b[0m\u001b[1;33m\u001b[0m\u001b[1;33m\u001b[0m\u001b[1;33m\u001b[0m\u001b[0m\n\u001b[1;32m-> 1049\u001b[1;33m         \u001b[0mself\u001b[0m\u001b[1;33m.\u001b[0m\u001b[0m_has_valid_tuple\u001b[0m\u001b[1;33m(\u001b[0m\u001b[0mtup\u001b[0m\u001b[1;33m)\u001b[0m\u001b[1;33m\u001b[0m\u001b[1;33m\u001b[0m\u001b[0m\n\u001b[0m\u001b[0;32m   1050\u001b[0m \u001b[1;33m\u001b[0m\u001b[0m\n\u001b[0;32m   1051\u001b[0m         \u001b[1;31m# ugly hack for GH #836\u001b[0m\u001b[1;33m\u001b[0m\u001b[1;33m\u001b[0m\u001b[1;33m\u001b[0m\u001b[0m\n",
      "\u001b[1;32m~\\anaconda3\\lib\\site-packages\\pandas\\core\\indexing.py\u001b[0m in \u001b[0;36m_has_valid_tuple\u001b[1;34m(self, key)\u001b[0m\n\u001b[0;32m    698\u001b[0m         \u001b[1;32mfor\u001b[0m \u001b[0mi\u001b[0m\u001b[1;33m,\u001b[0m \u001b[0mk\u001b[0m \u001b[1;32min\u001b[0m \u001b[0menumerate\u001b[0m\u001b[1;33m(\u001b[0m\u001b[0mkey\u001b[0m\u001b[1;33m)\u001b[0m\u001b[1;33m:\u001b[0m\u001b[1;33m\u001b[0m\u001b[1;33m\u001b[0m\u001b[0m\n\u001b[0;32m    699\u001b[0m             \u001b[1;32mif\u001b[0m \u001b[0mi\u001b[0m \u001b[1;33m>=\u001b[0m \u001b[0mself\u001b[0m\u001b[1;33m.\u001b[0m\u001b[0mndim\u001b[0m\u001b[1;33m:\u001b[0m\u001b[1;33m\u001b[0m\u001b[1;33m\u001b[0m\u001b[0m\n\u001b[1;32m--> 700\u001b[1;33m                 \u001b[1;32mraise\u001b[0m \u001b[0mIndexingError\u001b[0m\u001b[1;33m(\u001b[0m\u001b[1;34m\"Too many indexers\"\u001b[0m\u001b[1;33m)\u001b[0m\u001b[1;33m\u001b[0m\u001b[1;33m\u001b[0m\u001b[0m\n\u001b[0m\u001b[0;32m    701\u001b[0m             \u001b[1;32mtry\u001b[0m\u001b[1;33m:\u001b[0m\u001b[1;33m\u001b[0m\u001b[1;33m\u001b[0m\u001b[0m\n\u001b[0;32m    702\u001b[0m                 \u001b[0mself\u001b[0m\u001b[1;33m.\u001b[0m\u001b[0m_validate_key\u001b[0m\u001b[1;33m(\u001b[0m\u001b[0mk\u001b[0m\u001b[1;33m,\u001b[0m \u001b[0mi\u001b[0m\u001b[1;33m)\u001b[0m\u001b[1;33m\u001b[0m\u001b[1;33m\u001b[0m\u001b[0m\n",
      "\u001b[1;31mIndexingError\u001b[0m: Too many indexers"
     ]
    }
   ],
   "source": [
    "#Establishing Bins\n",
    "\n",
    "Agebins=[\"<10\",\"10-14\",\"15-19\",\"20-24\",\"25-29\",\"30-34\",\"35-39\",\"40+\"]\n",
    "agebinsq=[0,9,14,19,24,29,34,39,999]\n",
    "purchase_data_age=purchase_data\n",
    "purchase_data_age[\"Age Category\"]=pd.cut(purchase_data[\"Age\"],agebinsq,labels=Agebins,include_lowest=True)\n",
    "agetemp=purchase_data_age.groupby(\"Age Category\")\n",
    "agetable_df=pd.DataFrame(agetemp[\"Purchase ID\"].nunique())\n",
    "agetable_df=agetable_df.rename(columns={\"Purchase ID\":\"Number of Purchases\"})\n",
    "agetable_df[\"Average Purchase\"]=agetemp[\"Price\"].mean()\n",
    "agetable_df[\"Total Purchase Value\"]=agetemp[\"Price\"].sum()\n",
    "temp=purchase_data.groupby([\"Age Category\"])\n",
    "agelist=temp[\"Age Category\"].value_counts().keys().tolist()\n",
    "temp=temp[\"Price\"].sum()\n",
    "totalperperson=[]\n",
    "for value in range(0,len(Agebins)):\n",
    "    totalperperson.append(temp.loc[agelist[value]].mean())\n",
    "\n",
    "agetable_df[\"Avg Total Purchase Per Person\"]=totalperperson\n",
    "agetable_df[\"Average Purchase\"]=agetable_df[\"Average Purchase\"].astype(float).map(\"${:,.2f}\".format)\n",
    "agetable_df[\"Total Purchase Value\"]=agetable_df[\"Total Purchase Value\"].astype(float).map(\"${:,.2f}\".format)\n",
    "agetable_df[\"Avg Total Purchase Per Person\"]=agetable_df[\"Avg Total Purchase Per Person\"].astype(float).map(\"${:,.2f}\".format)\n",
    "agetable_df"
   ]
  },
  {
   "cell_type": "code",
   "execution_count": 7,
   "metadata": {},
   "outputs": [
    {
     "data": {
      "text/html": [
       "<div>\n",
       "<style scoped>\n",
       "    .dataframe tbody tr th:only-of-type {\n",
       "        vertical-align: middle;\n",
       "    }\n",
       "\n",
       "    .dataframe tbody tr th {\n",
       "        vertical-align: top;\n",
       "    }\n",
       "\n",
       "    .dataframe thead th {\n",
       "        text-align: right;\n",
       "    }\n",
       "</style>\n",
       "<table border=\"1\" class=\"dataframe\">\n",
       "  <thead>\n",
       "    <tr style=\"text-align: right;\">\n",
       "      <th></th>\n",
       "      <th>Purchase Count</th>\n",
       "      <th>Average Purchase Price</th>\n",
       "      <th>Total Purchase Value</th>\n",
       "      <th>Avg Total Purchase per Person</th>\n",
       "    </tr>\n",
       "    <tr>\n",
       "      <th>Age Ranges</th>\n",
       "      <th></th>\n",
       "      <th></th>\n",
       "      <th></th>\n",
       "      <th></th>\n",
       "    </tr>\n",
       "  </thead>\n",
       "  <tbody>\n",
       "    <tr>\n",
       "      <th>&lt;10</th>\n",
       "      <td>23</td>\n",
       "      <td>$3.35</td>\n",
       "      <td>$77.13</td>\n",
       "      <td>$4.54</td>\n",
       "    </tr>\n",
       "    <tr>\n",
       "      <th>10-14</th>\n",
       "      <td>28</td>\n",
       "      <td>$2.96</td>\n",
       "      <td>$82.78</td>\n",
       "      <td>$3.76</td>\n",
       "    </tr>\n",
       "    <tr>\n",
       "      <th>15-19</th>\n",
       "      <td>136</td>\n",
       "      <td>$3.04</td>\n",
       "      <td>$412.89</td>\n",
       "      <td>$3.86</td>\n",
       "    </tr>\n",
       "    <tr>\n",
       "      <th>20-24</th>\n",
       "      <td>365</td>\n",
       "      <td>$3.05</td>\n",
       "      <td>$1,114.06</td>\n",
       "      <td>$4.32</td>\n",
       "    </tr>\n",
       "    <tr>\n",
       "      <th>25-29</th>\n",
       "      <td>101</td>\n",
       "      <td>$2.90</td>\n",
       "      <td>$293.00</td>\n",
       "      <td>$3.81</td>\n",
       "    </tr>\n",
       "    <tr>\n",
       "      <th>30-34</th>\n",
       "      <td>73</td>\n",
       "      <td>$2.93</td>\n",
       "      <td>$214.00</td>\n",
       "      <td>$4.12</td>\n",
       "    </tr>\n",
       "    <tr>\n",
       "      <th>35-39</th>\n",
       "      <td>41</td>\n",
       "      <td>$3.60</td>\n",
       "      <td>$147.67</td>\n",
       "      <td>$4.76</td>\n",
       "    </tr>\n",
       "    <tr>\n",
       "      <th>40+</th>\n",
       "      <td>13</td>\n",
       "      <td>$2.94</td>\n",
       "      <td>$38.24</td>\n",
       "      <td>$3.19</td>\n",
       "    </tr>\n",
       "  </tbody>\n",
       "</table>\n",
       "</div>"
      ],
      "text/plain": [
       "           Purchase Count Average Purchase Price Total Purchase Value  \\\n",
       "Age Ranges                                                              \n",
       "<10                    23                  $3.35               $77.13   \n",
       "10-14                  28                  $2.96               $82.78   \n",
       "15-19                 136                  $3.04              $412.89   \n",
       "20-24                 365                  $3.05            $1,114.06   \n",
       "25-29                 101                  $2.90              $293.00   \n",
       "30-34                  73                  $2.93              $214.00   \n",
       "35-39                  41                  $3.60              $147.67   \n",
       "40+                    13                  $2.94               $38.24   \n",
       "\n",
       "           Avg Total Purchase per Person  \n",
       "Age Ranges                                \n",
       "<10                                $4.54  \n",
       "10-14                              $3.76  \n",
       "15-19                              $3.86  \n",
       "20-24                              $4.32  \n",
       "25-29                              $3.81  \n",
       "30-34                              $4.12  \n",
       "35-39                              $4.76  \n",
       "40+                                $3.19  "
      ]
     },
     "execution_count": 7,
     "metadata": {},
     "output_type": "execute_result"
    }
   ],
   "source": []
  },
  {
   "cell_type": "markdown",
   "metadata": {},
   "source": [
    "## Top Spenders"
   ]
  },
  {
   "cell_type": "markdown",
   "metadata": {},
   "source": [
    "* Run basic calculations to obtain the results in the table below\n",
    "\n",
    "\n",
    "* Create a summary data frame to hold the results\n",
    "\n",
    "\n",
    "* Sort the total purchase value column in descending order\n",
    "\n",
    "\n",
    "* Optional: give the displayed data cleaner formatting\n",
    "\n",
    "\n",
    "* Display a preview of the summary data frame\n",
    "\n"
   ]
  },
  {
   "cell_type": "code",
   "execution_count": 8,
   "metadata": {},
   "outputs": [
    {
     "data": {
      "text/html": [
       "<div>\n",
       "<style scoped>\n",
       "    .dataframe tbody tr th:only-of-type {\n",
       "        vertical-align: middle;\n",
       "    }\n",
       "\n",
       "    .dataframe tbody tr th {\n",
       "        vertical-align: top;\n",
       "    }\n",
       "\n",
       "    .dataframe thead th {\n",
       "        text-align: right;\n",
       "    }\n",
       "</style>\n",
       "<table border=\"1\" class=\"dataframe\">\n",
       "  <thead>\n",
       "    <tr style=\"text-align: right;\">\n",
       "      <th></th>\n",
       "      <th>Purchase Count</th>\n",
       "      <th>Average Purchase Price</th>\n",
       "      <th>Total Purchase Value</th>\n",
       "    </tr>\n",
       "    <tr>\n",
       "      <th>SN</th>\n",
       "      <th></th>\n",
       "      <th></th>\n",
       "      <th></th>\n",
       "    </tr>\n",
       "  </thead>\n",
       "  <tbody>\n",
       "    <tr>\n",
       "      <th>Lisosia93</th>\n",
       "      <td>5</td>\n",
       "      <td>$3.79</td>\n",
       "      <td>$18.96</td>\n",
       "    </tr>\n",
       "    <tr>\n",
       "      <th>Idastidru52</th>\n",
       "      <td>4</td>\n",
       "      <td>$3.86</td>\n",
       "      <td>$15.45</td>\n",
       "    </tr>\n",
       "    <tr>\n",
       "      <th>Chamjask73</th>\n",
       "      <td>3</td>\n",
       "      <td>$4.61</td>\n",
       "      <td>$13.83</td>\n",
       "    </tr>\n",
       "    <tr>\n",
       "      <th>Iral74</th>\n",
       "      <td>4</td>\n",
       "      <td>$3.40</td>\n",
       "      <td>$13.62</td>\n",
       "    </tr>\n",
       "    <tr>\n",
       "      <th>Iskadarya95</th>\n",
       "      <td>3</td>\n",
       "      <td>$4.37</td>\n",
       "      <td>$13.10</td>\n",
       "    </tr>\n",
       "  </tbody>\n",
       "</table>\n",
       "</div>"
      ],
      "text/plain": [
       "             Purchase Count Average Purchase Price Total Purchase Value\n",
       "SN                                                                     \n",
       "Lisosia93                 5                  $3.79               $18.96\n",
       "Idastidru52               4                  $3.86               $15.45\n",
       "Chamjask73                3                  $4.61               $13.83\n",
       "Iral74                    4                  $3.40               $13.62\n",
       "Iskadarya95               3                  $4.37               $13.10"
      ]
     },
     "execution_count": 8,
     "metadata": {},
     "output_type": "execute_result"
    }
   ],
   "source": []
  },
  {
   "cell_type": "markdown",
   "metadata": {},
   "source": [
    "## Most Popular Items"
   ]
  },
  {
   "cell_type": "markdown",
   "metadata": {},
   "source": [
    "* Retrieve the Item ID, Item Name, and Item Price columns\n",
    "\n",
    "\n",
    "* Group by Item ID and Item Name. Perform calculations to obtain purchase count, average item price, and total purchase value\n",
    "\n",
    "\n",
    "* Create a summary data frame to hold the results\n",
    "\n",
    "\n",
    "* Sort the purchase count column in descending order\n",
    "\n",
    "\n",
    "* Optional: give the displayed data cleaner formatting\n",
    "\n",
    "\n",
    "* Display a preview of the summary data frame\n",
    "\n"
   ]
  },
  {
   "cell_type": "code",
   "execution_count": 9,
   "metadata": {},
   "outputs": [
    {
     "data": {
      "text/html": [
       "<div>\n",
       "<style scoped>\n",
       "    .dataframe tbody tr th:only-of-type {\n",
       "        vertical-align: middle;\n",
       "    }\n",
       "\n",
       "    .dataframe tbody tr th {\n",
       "        vertical-align: top;\n",
       "    }\n",
       "\n",
       "    .dataframe thead th {\n",
       "        text-align: right;\n",
       "    }\n",
       "</style>\n",
       "<table border=\"1\" class=\"dataframe\">\n",
       "  <thead>\n",
       "    <tr style=\"text-align: right;\">\n",
       "      <th></th>\n",
       "      <th></th>\n",
       "      <th>Purchase Count</th>\n",
       "      <th>Item Price</th>\n",
       "      <th>Total Purchase Value</th>\n",
       "    </tr>\n",
       "    <tr>\n",
       "      <th>Item ID</th>\n",
       "      <th>Item Name</th>\n",
       "      <th></th>\n",
       "      <th></th>\n",
       "      <th></th>\n",
       "    </tr>\n",
       "  </thead>\n",
       "  <tbody>\n",
       "    <tr>\n",
       "      <th>92</th>\n",
       "      <th>Final Critic</th>\n",
       "      <td>13</td>\n",
       "      <td>$4.61</td>\n",
       "      <td>$59.99</td>\n",
       "    </tr>\n",
       "    <tr>\n",
       "      <th>178</th>\n",
       "      <th>Oathbreaker, Last Hope of the Breaking Storm</th>\n",
       "      <td>12</td>\n",
       "      <td>$4.23</td>\n",
       "      <td>$50.76</td>\n",
       "    </tr>\n",
       "    <tr>\n",
       "      <th>145</th>\n",
       "      <th>Fiery Glass Crusader</th>\n",
       "      <td>9</td>\n",
       "      <td>$4.58</td>\n",
       "      <td>$41.22</td>\n",
       "    </tr>\n",
       "    <tr>\n",
       "      <th>132</th>\n",
       "      <th>Persuasion</th>\n",
       "      <td>9</td>\n",
       "      <td>$3.22</td>\n",
       "      <td>$28.99</td>\n",
       "    </tr>\n",
       "    <tr>\n",
       "      <th>108</th>\n",
       "      <th>Extraction, Quickblade Of Trembling Hands</th>\n",
       "      <td>9</td>\n",
       "      <td>$3.53</td>\n",
       "      <td>$31.77</td>\n",
       "    </tr>\n",
       "  </tbody>\n",
       "</table>\n",
       "</div>"
      ],
      "text/plain": [
       "                                                     Purchase Count  \\\n",
       "Item ID Item Name                                                     \n",
       "92      Final Critic                                             13   \n",
       "178     Oathbreaker, Last Hope of the Breaking Storm             12   \n",
       "145     Fiery Glass Crusader                                      9   \n",
       "132     Persuasion                                                9   \n",
       "108     Extraction, Quickblade Of Trembling Hands                 9   \n",
       "\n",
       "                                                     Item Price  \\\n",
       "Item ID Item Name                                                 \n",
       "92      Final Critic                                      $4.61   \n",
       "178     Oathbreaker, Last Hope of the Breaking Storm      $4.23   \n",
       "145     Fiery Glass Crusader                              $4.58   \n",
       "132     Persuasion                                        $3.22   \n",
       "108     Extraction, Quickblade Of Trembling Hands         $3.53   \n",
       "\n",
       "                                                     Total Purchase Value  \n",
       "Item ID Item Name                                                          \n",
       "92      Final Critic                                               $59.99  \n",
       "178     Oathbreaker, Last Hope of the Breaking Storm               $50.76  \n",
       "145     Fiery Glass Crusader                                       $41.22  \n",
       "132     Persuasion                                                 $28.99  \n",
       "108     Extraction, Quickblade Of Trembling Hands                  $31.77  "
      ]
     },
     "execution_count": 9,
     "metadata": {},
     "output_type": "execute_result"
    }
   ],
   "source": []
  },
  {
   "cell_type": "markdown",
   "metadata": {},
   "source": [
    "## Most Profitable Items"
   ]
  },
  {
   "cell_type": "markdown",
   "metadata": {},
   "source": [
    "* Sort the above table by total purchase value in descending order\n",
    "\n",
    "\n",
    "* Optional: give the displayed data cleaner formatting\n",
    "\n",
    "\n",
    "* Display a preview of the data frame\n",
    "\n"
   ]
  },
  {
   "cell_type": "code",
   "execution_count": 10,
   "metadata": {
    "scrolled": true
   },
   "outputs": [
    {
     "data": {
      "text/html": [
       "<div>\n",
       "<style scoped>\n",
       "    .dataframe tbody tr th:only-of-type {\n",
       "        vertical-align: middle;\n",
       "    }\n",
       "\n",
       "    .dataframe tbody tr th {\n",
       "        vertical-align: top;\n",
       "    }\n",
       "\n",
       "    .dataframe thead th {\n",
       "        text-align: right;\n",
       "    }\n",
       "</style>\n",
       "<table border=\"1\" class=\"dataframe\">\n",
       "  <thead>\n",
       "    <tr style=\"text-align: right;\">\n",
       "      <th></th>\n",
       "      <th></th>\n",
       "      <th>Purchase Count</th>\n",
       "      <th>Item Price</th>\n",
       "      <th>Total Purchase Value</th>\n",
       "    </tr>\n",
       "    <tr>\n",
       "      <th>Item ID</th>\n",
       "      <th>Item Name</th>\n",
       "      <th></th>\n",
       "      <th></th>\n",
       "      <th></th>\n",
       "    </tr>\n",
       "  </thead>\n",
       "  <tbody>\n",
       "    <tr>\n",
       "      <th>92</th>\n",
       "      <th>Final Critic</th>\n",
       "      <td>13</td>\n",
       "      <td>$4.61</td>\n",
       "      <td>$59.99</td>\n",
       "    </tr>\n",
       "    <tr>\n",
       "      <th>178</th>\n",
       "      <th>Oathbreaker, Last Hope of the Breaking Storm</th>\n",
       "      <td>12</td>\n",
       "      <td>$4.23</td>\n",
       "      <td>$50.76</td>\n",
       "    </tr>\n",
       "    <tr>\n",
       "      <th>82</th>\n",
       "      <th>Nirvana</th>\n",
       "      <td>9</td>\n",
       "      <td>$4.90</td>\n",
       "      <td>$44.10</td>\n",
       "    </tr>\n",
       "    <tr>\n",
       "      <th>145</th>\n",
       "      <th>Fiery Glass Crusader</th>\n",
       "      <td>9</td>\n",
       "      <td>$4.58</td>\n",
       "      <td>$41.22</td>\n",
       "    </tr>\n",
       "    <tr>\n",
       "      <th>103</th>\n",
       "      <th>Singed Scalpel</th>\n",
       "      <td>8</td>\n",
       "      <td>$4.35</td>\n",
       "      <td>$34.80</td>\n",
       "    </tr>\n",
       "  </tbody>\n",
       "</table>\n",
       "</div>"
      ],
      "text/plain": [
       "                                                     Purchase Count  \\\n",
       "Item ID Item Name                                                     \n",
       "92      Final Critic                                             13   \n",
       "178     Oathbreaker, Last Hope of the Breaking Storm             12   \n",
       "82      Nirvana                                                   9   \n",
       "145     Fiery Glass Crusader                                      9   \n",
       "103     Singed Scalpel                                            8   \n",
       "\n",
       "                                                     Item Price  \\\n",
       "Item ID Item Name                                                 \n",
       "92      Final Critic                                      $4.61   \n",
       "178     Oathbreaker, Last Hope of the Breaking Storm      $4.23   \n",
       "82      Nirvana                                           $4.90   \n",
       "145     Fiery Glass Crusader                              $4.58   \n",
       "103     Singed Scalpel                                    $4.35   \n",
       "\n",
       "                                                     Total Purchase Value  \n",
       "Item ID Item Name                                                          \n",
       "92      Final Critic                                               $59.99  \n",
       "178     Oathbreaker, Last Hope of the Breaking Storm               $50.76  \n",
       "82      Nirvana                                                    $44.10  \n",
       "145     Fiery Glass Crusader                                       $41.22  \n",
       "103     Singed Scalpel                                             $34.80  "
      ]
     },
     "execution_count": 10,
     "metadata": {},
     "output_type": "execute_result"
    }
   ],
   "source": []
  }
 ],
 "metadata": {
  "anaconda-cloud": {},
  "kernel_info": {
   "name": "python3"
  },
  "kernelspec": {
   "name": "python385jvsc74a57bd0e74813f8ecaf96a2b3633763ff59194acb958404929b848342d146d59229eacb",
   "display_name": "Python 3.8.5 64-bit ('base': conda)"
  },
  "language_info": {
   "codemirror_mode": {
    "name": "ipython",
    "version": 3
   },
   "file_extension": ".py",
   "mimetype": "text/x-python",
   "name": "python",
   "nbconvert_exporter": "python",
   "pygments_lexer": "ipython3",
   "version": "3.8.5"
  },
  "latex_envs": {
   "LaTeX_envs_menu_present": true,
   "autoclose": false,
   "autocomplete": true,
   "bibliofile": "biblio.bib",
   "cite_by": "apalike",
   "current_citInitial": 1,
   "eqLabelWithNumbers": true,
   "eqNumInitial": 1,
   "hotkeys": {
    "equation": "Ctrl-E",
    "itemize": "Ctrl-I"
   },
   "labels_anchors": false,
   "latex_user_defs": false,
   "report_style_numbering": false,
   "user_envs_cfg": false
  },
  "nteract": {
   "version": "0.2.0"
  }
 },
 "nbformat": 4,
 "nbformat_minor": 2
}