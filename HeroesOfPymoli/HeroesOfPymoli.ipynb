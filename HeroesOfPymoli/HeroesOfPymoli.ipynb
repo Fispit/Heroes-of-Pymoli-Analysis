{
 "cells": [
  {
   "cell_type": "markdown",
   "metadata": {},
   "source": [
    "### Note\n",
    "* Instructions have been included for each segment. You do not have to follow them exactly, but they are included to help you think through the steps."
   ]
  },
  {
   "cell_type": "code",
   "execution_count": 72,
   "metadata": {},
   "outputs": [],
   "source": [
    "# Dependencies and Setup\n",
    "import pandas as pd\n",
    "import numpy as np\n",
    "# File to Load (Remember to Change These)\n",
    "file_to_load = \"Resources/purchase_data.csv\"\n",
    "\n",
    "# Read Purchasing File and store into Pandas data frame\n",
    "purchase_data = pd.read_csv(file_to_load)"
   ]
  },
  {
   "cell_type": "markdown",
   "metadata": {},
   "source": [
    "## Player Count"
   ]
  },
  {
   "cell_type": "markdown",
   "metadata": {},
   "source": [
    "* Display the total number of players\n"
   ]
  },
  {
   "cell_type": "code",
   "execution_count": 73,
   "metadata": {},
   "outputs": [
    {
     "output_type": "execute_result",
     "data": {
      "text/plain": [
       "576"
      ]
     },
     "metadata": {},
     "execution_count": 73
    }
   ],
   "source": [
    "playercount=len(purchase_data[\"SN\"].unique())\n",
    "uniqueplayers=(purchase_data[\"SN\"].unique())\n",
    "playercount\n"
   ]
  },
  {
   "cell_type": "markdown",
   "metadata": {},
   "source": [
    "## Purchasing Analysis (Total)"
   ]
  },
  {
   "cell_type": "markdown",
   "metadata": {},
   "source": [
    "* Run basic calculations to obtain number of unique items, average price, etc.\n",
    "\n",
    "\n",
    "* Create a summary data frame to hold the results\n",
    "\n",
    "\n",
    "* Optional: give the displayed data cleaner formatting\n",
    "\n",
    "\n",
    "* Display the summary data frame\n"
   ]
  },
  {
   "cell_type": "code",
   "execution_count": 74,
   "metadata": {
    "scrolled": true
   },
   "outputs": [
    {
     "output_type": "execute_result",
     "data": {
      "text/plain": [
       "   Number of Unique Items       Average Price  Number of Purchases Total Sales\n",
       "0                     179  $3.050987179487176                  779    $2379.77"
      ],
      "text/html": "<div>\n<style scoped>\n    .dataframe tbody tr th:only-of-type {\n        vertical-align: middle;\n    }\n\n    .dataframe tbody tr th {\n        vertical-align: top;\n    }\n\n    .dataframe thead th {\n        text-align: right;\n    }\n</style>\n<table border=\"1\" class=\"dataframe\">\n  <thead>\n    <tr style=\"text-align: right;\">\n      <th></th>\n      <th>Number of Unique Items</th>\n      <th>Average Price</th>\n      <th>Number of Purchases</th>\n      <th>Total Sales</th>\n    </tr>\n  </thead>\n  <tbody>\n    <tr>\n      <th>0</th>\n      <td>179</td>\n      <td>$3.050987179487176</td>\n      <td>779</td>\n      <td>$2379.77</td>\n    </tr>\n  </tbody>\n</table>\n</div>"
     },
     "metadata": {},
     "execution_count": 74
    }
   ],
   "source": [
    "uniqueitems=len(purchase_data[\"Item Name\"].unique())\n",
    "avgprice=purchase_data[\"Price\"].mean()\n",
    "totalssales=purchase_data[\"Price\"].sum()\n",
    "numpurchases=purchase_data[\"Purchase ID\"].max()\n",
    "framedata={\"Number of Unique Items\":[uniqueitems],\"Average Price\":f\"${avgprice}\",\"Number of Purchases\":[numpurchases],\"Total Sales\":f\"${totalssales}\"}\n",
    "sales_df=pd.DataFrame(framedata)\n",
    "sales_df"
   ]
  },
  {
   "cell_type": "markdown",
   "metadata": {},
   "source": [
    "## Gender Demographics"
   ]
  },
  {
   "cell_type": "markdown",
   "metadata": {},
   "source": [
    "* Percentage and Count of Male Players\n",
    "\n",
    "\n",
    "* Percentage and Count of Female Players\n",
    "\n",
    "\n",
    "* Percentage and Count of Other / Non-Disclosed\n",
    "\n",
    "\n"
   ]
  },
  {
   "cell_type": "code",
   "execution_count": 88,
   "metadata": {},
   "outputs": [
    {
     "output_type": "execute_result",
     "data": {
      "text/plain": [
       "                       Gender  Percentage\n",
       "Male                      484   84.027778\n",
       "Female                     81   14.062500\n",
       "Other / Non-Disclosed      11    1.909722"
      ],
      "text/html": "<div>\n<style scoped>\n    .dataframe tbody tr th:only-of-type {\n        vertical-align: middle;\n    }\n\n    .dataframe tbody tr th {\n        vertical-align: top;\n    }\n\n    .dataframe thead th {\n        text-align: right;\n    }\n</style>\n<table border=\"1\" class=\"dataframe\">\n  <thead>\n    <tr style=\"text-align: right;\">\n      <th></th>\n      <th>Gender</th>\n      <th>Percentage</th>\n    </tr>\n  </thead>\n  <tbody>\n    <tr>\n      <th>Male</th>\n      <td>484</td>\n      <td>84.027778</td>\n    </tr>\n    <tr>\n      <th>Female</th>\n      <td>81</td>\n      <td>14.062500</td>\n    </tr>\n    <tr>\n      <th>Other / Non-Disclosed</th>\n      <td>11</td>\n      <td>1.909722</td>\n    </tr>\n  </tbody>\n</table>\n</div>"
     },
     "metadata": {},
     "execution_count": 88
    }
   ],
   "source": [
    "\n",
    "genderlist=[]\n",
    "agelist=[]\n",
    "for name in uniqueplayers:\n",
    "    newname_df=purchase_data.query(\"SN==@name\")\n",
    "    gender=newname_df[\"Gender\"].iloc[0]\n",
    "    age=newname_df[\"Age\"].iloc[0]\n",
    "    genderlist.append(gender)\n",
    "    agelist.append(age)\n",
    "\n",
    "\n",
    "unique_values={\"SN\":uniqueplayers,\"Gender\":genderlist,\"Age\":agelist}\n",
    "genderlist=[]\n",
    "u_users_pd=pd.DataFrame(unique_values)\n",
    "uniquegendercount=u_users_pd[\"Gender\"].value_counts()\n",
    "genderframe_pd=pd.DataFrame(uniquegendercount)\n",
    "genderframe_pd[\"Percentage\"]=genderframe_pd*100/playercount\n",
    "genderframe_pd.rename(columns={\"Gender\":\"Count\"})\n",
    "genderframe_pd\n"
   ]
  },
  {
   "cell_type": "code",
   "execution_count": 4,
   "metadata": {},
   "outputs": [
    {
     "data": {
      "text/html": [
       "<div>\n",
       "<style scoped>\n",
       "    .dataframe tbody tr th:only-of-type {\n",
       "        vertical-align: middle;\n",
       "    }\n",
       "\n",
       "    .dataframe tbody tr th {\n",
       "        vertical-align: top;\n",
       "    }\n",
       "\n",
       "    .dataframe thead th {\n",
       "        text-align: right;\n",
       "    }\n",
       "</style>\n",
       "<table border=\"1\" class=\"dataframe\">\n",
       "  <thead>\n",
       "    <tr style=\"text-align: right;\">\n",
       "      <th></th>\n",
       "      <th>Total Count</th>\n",
       "      <th>Percentage of Players</th>\n",
       "    </tr>\n",
       "  </thead>\n",
       "  <tbody>\n",
       "    <tr>\n",
       "      <th>Male</th>\n",
       "      <td>484</td>\n",
       "      <td>84.03%</td>\n",
       "    </tr>\n",
       "    <tr>\n",
       "      <th>Female</th>\n",
       "      <td>81</td>\n",
       "      <td>14.06%</td>\n",
       "    </tr>\n",
       "    <tr>\n",
       "      <th>Other / Non-Disclosed</th>\n",
       "      <td>11</td>\n",
       "      <td>1.91%</td>\n",
       "    </tr>\n",
       "  </tbody>\n",
       "</table>\n",
       "</div>"
      ],
      "text/plain": [
       "                       Total Count Percentage of Players\n",
       "Male                           484                84.03%\n",
       "Female                          81                14.06%\n",
       "Other / Non-Disclosed           11                 1.91%"
      ]
     },
     "execution_count": 4,
     "metadata": {},
     "output_type": "execute_result"
    }
   ],
   "source": []
  },
  {
   "cell_type": "markdown",
   "metadata": {},
   "source": [
    "\n",
    "## Purchasing Analysis (Gender)"
   ]
  },
  {
   "cell_type": "markdown",
   "metadata": {},
   "source": [
    "* Run basic calculations to obtain purchase count, avg. purchase price, avg. purchase total per person etc. by gender\n",
    "\n",
    "\n",
    "\n",
    "\n",
    "* Create a summary data frame to hold the results\n",
    "\n",
    "\n",
    "* Optional: give the displayed data cleaner formatting\n",
    "\n",
    "\n",
    "* Display the summary data frame"
   ]
  },
  {
   "cell_type": "code",
   "execution_count": 85,
   "metadata": {},
   "outputs": [
    {
     "output_type": "execute_result",
     "data": {
      "text/plain": [
       "<pandas.io.formats.style.Styler at 0x134431ff700>"
      ],
      "text/html": "<style  type=\"text/css\" >\n</style><table id=\"T_43c1cd1e_97ef_11eb_8698_bc542f2e4dec\" ><thead>    <tr>        <th class=\"col_heading level0 col0\" >Gender</th>        <th class=\"col_heading level0 col1\" >Purchase Count</th>        <th class=\"col_heading level0 col2\" >Average Purchase</th>        <th class=\"col_heading level0 col3\" >Total Purchase Value</th>        <th class=\"col_heading level0 col4\" >Avg Total Purchase Per Person</th>    </tr></thead><tbody>\n                <tr>\n                                <td id=\"T_43c1cd1e_97ef_11eb_8698_bc542f2e4decrow0_col0\" class=\"data row0 col0\" >Male</td>\n                        <td id=\"T_43c1cd1e_97ef_11eb_8698_bc542f2e4decrow0_col1\" class=\"data row0 col1\" >652</td>\n                        <td id=\"T_43c1cd1e_97ef_11eb_8698_bc542f2e4decrow0_col2\" class=\"data row0 col2\" >$3.01</td>\n                        <td id=\"T_43c1cd1e_97ef_11eb_8698_bc542f2e4decrow0_col3\" class=\"data row0 col3\" >$1967.64</td>\n                        <td id=\"T_43c1cd1e_97ef_11eb_8698_bc542f2e4decrow0_col4\" class=\"data row0 col4\" >$4.065</td>\n            </tr>\n            <tr>\n                                <td id=\"T_43c1cd1e_97ef_11eb_8698_bc542f2e4decrow1_col0\" class=\"data row1 col0\" >Female</td>\n                        <td id=\"T_43c1cd1e_97ef_11eb_8698_bc542f2e4decrow1_col1\" class=\"data row1 col1\" >113</td>\n                        <td id=\"T_43c1cd1e_97ef_11eb_8698_bc542f2e4decrow1_col2\" class=\"data row1 col2\" >$3.20</td>\n                        <td id=\"T_43c1cd1e_97ef_11eb_8698_bc542f2e4decrow1_col3\" class=\"data row1 col3\" >$361.94</td>\n                        <td id=\"T_43c1cd1e_97ef_11eb_8698_bc542f2e4decrow1_col4\" class=\"data row1 col4\" >$4.468</td>\n            </tr>\n            <tr>\n                                <td id=\"T_43c1cd1e_97ef_11eb_8698_bc542f2e4decrow2_col0\" class=\"data row2 col0\" >Other / Non-Disclosed</td>\n                        <td id=\"T_43c1cd1e_97ef_11eb_8698_bc542f2e4decrow2_col1\" class=\"data row2 col1\" >15</td>\n                        <td id=\"T_43c1cd1e_97ef_11eb_8698_bc542f2e4decrow2_col2\" class=\"data row2 col2\" >$3.34</td>\n                        <td id=\"T_43c1cd1e_97ef_11eb_8698_bc542f2e4decrow2_col3\" class=\"data row2 col3\" >$50.19</td>\n                        <td id=\"T_43c1cd1e_97ef_11eb_8698_bc542f2e4decrow2_col4\" class=\"data row2 col4\" >$4.562</td>\n            </tr>\n    </tbody></table>"
     },
     "metadata": {},
     "execution_count": 85
    }
   ],
   "source": [
    "genderlist=purchase_data[\"Gender\"].value_counts().keys().tolist()\n",
    "genpurchases=purchase_data[\"Gender\"].value_counts().tolist()\n",
    "avgpurchase=[]\n",
    "totalpurchase=[]\n",
    "avgpurchasepp=[]\n",
    "for gender in genderlist:\n",
    "    genderdata=purchase_data.loc[purchase_data[\"Gender\"]==gender]\n",
    "    avergen=genderdata.iloc[:,6].mean()\n",
    "    avergen=str(avergen)\n",
    "    avgpurchase.append(\"$\"+avergen[0:4])\n",
    "    sumgen=genderdata.iloc[:,6].sum()\n",
    "    sumgen=str(sumgen)\n",
    "    totalpurchase.append(\"$\"+sumgen)\n",
    "    gendermembervalues=genderdata[\"SN\"].unique()\n",
    "    individualmemsales=[]\n",
    "    for element in gendermembervalues:\n",
    "        newname_df=purchase_data.query(\"SN==@element\")\n",
    "        membersum=newname_df.iloc[:,6].sum()\n",
    "        individualmemsales.append(membersum)\n",
    "    individualavg=\"$\"+str(np.mean(individualmemsales))\n",
    "    avgpurchasepp.append(individualavg[0:6])\n",
    "\n",
    "genderframe={\"Gender\":genderlist,\"Purchase Count\":genderpurchases,\"Average Purchase\":avgpurchase,\"Total Purchase Value\":totalpurchase,\"Avg Total Purchase Per Person\":avgpurchasepp}\n",
    "\n",
    "genderpurchasestats__df=pd.DataFrame(genderframe)\n",
    "genderpurchasestats__df.style.hide_index()\n"
   ]
  },
  {
   "cell_type": "code",
   "execution_count": 5,
   "metadata": {},
   "outputs": [
    {
     "data": {
      "text/html": [
       "<div>\n",
       "<style scoped>\n",
       "    .dataframe tbody tr th:only-of-type {\n",
       "        vertical-align: middle;\n",
       "    }\n",
       "\n",
       "    .dataframe tbody tr th {\n",
       "        vertical-align: top;\n",
       "    }\n",
       "\n",
       "    .dataframe thead th {\n",
       "        text-align: right;\n",
       "    }\n",
       "</style>\n",
       "<table border=\"1\" class=\"dataframe\">\n",
       "  <thead>\n",
       "    <tr style=\"text-align: right;\">\n",
       "      <th></th>\n",
       "      <th>Purchase Count</th>\n",
       "      <th>Average Purchase Price</th>\n",
       "      <th>Total Purchase Value</th>\n",
       "      <th>Avg Total Purchase per Person</th>\n",
       "    </tr>\n",
       "    <tr>\n",
       "      <th>Gender</th>\n",
       "      <th></th>\n",
       "      <th></th>\n",
       "      <th></th>\n",
       "      <th></th>\n",
       "    </tr>\n",
       "  </thead>\n",
       "  <tbody>\n",
       "    <tr>\n",
       "      <th>Female</th>\n",
       "      <td>113</td>\n",
       "      <td>$3.20</td>\n",
       "      <td>$361.94</td>\n",
       "      <td>$4.47</td>\n",
       "    </tr>\n",
       "    <tr>\n",
       "      <th>Male</th>\n",
       "      <td>652</td>\n",
       "      <td>$3.02</td>\n",
       "      <td>$1,967.64</td>\n",
       "      <td>$4.07</td>\n",
       "    </tr>\n",
       "    <tr>\n",
       "      <th>Other / Non-Disclosed</th>\n",
       "      <td>15</td>\n",
       "      <td>$3.35</td>\n",
       "      <td>$50.19</td>\n",
       "      <td>$4.56</td>\n",
       "    </tr>\n",
       "  </tbody>\n",
       "</table>\n",
       "</div>"
      ],
      "text/plain": [
       "                      Purchase Count Average Purchase Price  \\\n",
       "Gender                                                        \n",
       "Female                           113                  $3.20   \n",
       "Male                             652                  $3.02   \n",
       "Other / Non-Disclosed             15                  $3.35   \n",
       "\n",
       "                      Total Purchase Value Avg Total Purchase per Person  \n",
       "Gender                                                                    \n",
       "Female                             $361.94                         $4.47  \n",
       "Male                             $1,967.64                         $4.07  \n",
       "Other / Non-Disclosed               $50.19                         $4.56  "
      ]
     },
     "execution_count": 5,
     "metadata": {},
     "output_type": "execute_result"
    }
   ],
   "source": []
  },
  {
   "cell_type": "markdown",
   "metadata": {},
   "source": [
    "## Age Demographics"
   ]
  },
  {
   "cell_type": "markdown",
   "metadata": {},
   "source": [
    "* Establish bins for ages\n",
    "\n",
    "\n",
    "* Categorize the existing players using the age bins. Hint: use pd.cut()\n",
    "\n",
    "\n",
    "* Calculate the numbers and percentages by age group\n",
    "\n",
    "\n",
    "* Create a summary data frame to hold the results\n",
    "\n",
    "\n",
    "* Optional: round the percentage column to two decimal points\n",
    "\n",
    "\n",
    "* Display Age Demographics Table\n"
   ]
  },
  {
   "cell_type": "code",
   "execution_count": 6,
   "metadata": {},
   "outputs": [
    {
     "data": {
      "text/html": [
       "<div>\n",
       "<style scoped>\n",
       "    .dataframe tbody tr th:only-of-type {\n",
       "        vertical-align: middle;\n",
       "    }\n",
       "\n",
       "    .dataframe tbody tr th {\n",
       "        vertical-align: top;\n",
       "    }\n",
       "\n",
       "    .dataframe thead th {\n",
       "        text-align: right;\n",
       "    }\n",
       "</style>\n",
       "<table border=\"1\" class=\"dataframe\">\n",
       "  <thead>\n",
       "    <tr style=\"text-align: right;\">\n",
       "      <th></th>\n",
       "      <th>Total Count</th>\n",
       "      <th>Percentage of Players</th>\n",
       "    </tr>\n",
       "  </thead>\n",
       "  <tbody>\n",
       "    <tr>\n",
       "      <th>&lt;10</th>\n",
       "      <td>17</td>\n",
       "      <td>2.95%</td>\n",
       "    </tr>\n",
       "    <tr>\n",
       "      <th>10-14</th>\n",
       "      <td>22</td>\n",
       "      <td>3.82%</td>\n",
       "    </tr>\n",
       "    <tr>\n",
       "      <th>15-19</th>\n",
       "      <td>107</td>\n",
       "      <td>18.58%</td>\n",
       "    </tr>\n",
       "    <tr>\n",
       "      <th>20-24</th>\n",
       "      <td>258</td>\n",
       "      <td>44.79%</td>\n",
       "    </tr>\n",
       "    <tr>\n",
       "      <th>25-29</th>\n",
       "      <td>77</td>\n",
       "      <td>13.37%</td>\n",
       "    </tr>\n",
       "    <tr>\n",
       "      <th>30-34</th>\n",
       "      <td>52</td>\n",
       "      <td>9.03%</td>\n",
       "    </tr>\n",
       "    <tr>\n",
       "      <th>35-39</th>\n",
       "      <td>31</td>\n",
       "      <td>5.38%</td>\n",
       "    </tr>\n",
       "    <tr>\n",
       "      <th>40+</th>\n",
       "      <td>12</td>\n",
       "      <td>2.08%</td>\n",
       "    </tr>\n",
       "  </tbody>\n",
       "</table>\n",
       "</div>"
      ],
      "text/plain": [
       "       Total Count Percentage of Players\n",
       "<10             17                 2.95%\n",
       "10-14           22                 3.82%\n",
       "15-19          107                18.58%\n",
       "20-24          258                44.79%\n",
       "25-29           77                13.37%\n",
       "30-34           52                 9.03%\n",
       "35-39           31                 5.38%\n",
       "40+             12                 2.08%"
      ]
     },
     "execution_count": 6,
     "metadata": {},
     "output_type": "execute_result"
    }
   ],
   "source": []
  },
  {
   "cell_type": "code",
   "execution_count": 86,
   "metadata": {},
   "outputs": [
    {
     "output_type": "execute_result",
     "data": {
      "text/plain": [
       "<pandas.io.formats.style.Styler at 0x134447c29a0>"
      ],
      "text/html": "<style  type=\"text/css\" >\n</style><table id=\"T_4d3a17e9_97ef_11eb_8d6c_bc542f2e4dec\" ><thead>    <tr>        <th class=\"col_heading level0 col0\" >Age Bracket</th>        <th class=\"col_heading level0 col1\" >Total Count</th>        <th class=\"col_heading level0 col2\" >Percentage of Players</th>    </tr></thead><tbody>\n                <tr>\n                                <td id=\"T_4d3a17e9_97ef_11eb_8d6c_bc542f2e4decrow0_col0\" class=\"data row0 col0\" ><10</td>\n                        <td id=\"T_4d3a17e9_97ef_11eb_8d6c_bc542f2e4decrow0_col1\" class=\"data row0 col1\" >17</td>\n                        <td id=\"T_4d3a17e9_97ef_11eb_8d6c_bc542f2e4decrow0_col2\" class=\"data row0 col2\" >2.951%</td>\n            </tr>\n            <tr>\n                                <td id=\"T_4d3a17e9_97ef_11eb_8d6c_bc542f2e4decrow1_col0\" class=\"data row1 col0\" >10-14</td>\n                        <td id=\"T_4d3a17e9_97ef_11eb_8d6c_bc542f2e4decrow1_col1\" class=\"data row1 col1\" >22</td>\n                        <td id=\"T_4d3a17e9_97ef_11eb_8d6c_bc542f2e4decrow1_col2\" class=\"data row1 col2\" >3.819%</td>\n            </tr>\n            <tr>\n                                <td id=\"T_4d3a17e9_97ef_11eb_8d6c_bc542f2e4decrow2_col0\" class=\"data row2 col0\" >15-19</td>\n                        <td id=\"T_4d3a17e9_97ef_11eb_8d6c_bc542f2e4decrow2_col1\" class=\"data row2 col1\" >107</td>\n                        <td id=\"T_4d3a17e9_97ef_11eb_8d6c_bc542f2e4decrow2_col2\" class=\"data row2 col2\" >18.57%</td>\n            </tr>\n            <tr>\n                                <td id=\"T_4d3a17e9_97ef_11eb_8d6c_bc542f2e4decrow3_col0\" class=\"data row3 col0\" >20-24</td>\n                        <td id=\"T_4d3a17e9_97ef_11eb_8d6c_bc542f2e4decrow3_col1\" class=\"data row3 col1\" >258</td>\n                        <td id=\"T_4d3a17e9_97ef_11eb_8d6c_bc542f2e4decrow3_col2\" class=\"data row3 col2\" >44.79%</td>\n            </tr>\n            <tr>\n                                <td id=\"T_4d3a17e9_97ef_11eb_8d6c_bc542f2e4decrow4_col0\" class=\"data row4 col0\" >25-29</td>\n                        <td id=\"T_4d3a17e9_97ef_11eb_8d6c_bc542f2e4decrow4_col1\" class=\"data row4 col1\" >77</td>\n                        <td id=\"T_4d3a17e9_97ef_11eb_8d6c_bc542f2e4decrow4_col2\" class=\"data row4 col2\" >13.36%</td>\n            </tr>\n            <tr>\n                                <td id=\"T_4d3a17e9_97ef_11eb_8d6c_bc542f2e4decrow5_col0\" class=\"data row5 col0\" >30-34</td>\n                        <td id=\"T_4d3a17e9_97ef_11eb_8d6c_bc542f2e4decrow5_col1\" class=\"data row5 col1\" >52</td>\n                        <td id=\"T_4d3a17e9_97ef_11eb_8d6c_bc542f2e4decrow5_col2\" class=\"data row5 col2\" >9.027%</td>\n            </tr>\n            <tr>\n                                <td id=\"T_4d3a17e9_97ef_11eb_8d6c_bc542f2e4decrow6_col0\" class=\"data row6 col0\" >35-39</td>\n                        <td id=\"T_4d3a17e9_97ef_11eb_8d6c_bc542f2e4decrow6_col1\" class=\"data row6 col1\" >31</td>\n                        <td id=\"T_4d3a17e9_97ef_11eb_8d6c_bc542f2e4decrow6_col2\" class=\"data row6 col2\" >5.381%</td>\n            </tr>\n            <tr>\n                                <td id=\"T_4d3a17e9_97ef_11eb_8d6c_bc542f2e4decrow7_col0\" class=\"data row7 col0\" >40+</td>\n                        <td id=\"T_4d3a17e9_97ef_11eb_8d6c_bc542f2e4decrow7_col1\" class=\"data row7 col1\" >12</td>\n                        <td id=\"T_4d3a17e9_97ef_11eb_8d6c_bc542f2e4decrow7_col2\" class=\"data row7 col2\" >2.083%</td>\n            </tr>\n    </tbody></table>"
     },
     "metadata": {},
     "execution_count": 86
    }
   ],
   "source": [
    "#Establishing Bins\n",
    "Agebins=[\"<10\",\"10-14\",\"15-19\",\"20-24\",\"25-29\",\"30-34\",\"35-39\",\"40+\"]\n",
    "agebinsq=[0,0,0,0,0,0,0,0]\n",
    "for element in unique_values[\"Age\"]:\n",
    "    if element<10:\n",
    "        agebinsq[0]+=1\n",
    "    elif element<15:\n",
    "        agebinsq[1]+=1\n",
    "    elif element<20:\n",
    "        agebinsq[2]+=1\n",
    "    elif element<25:\n",
    "        agebinsq[3]+=1\n",
    "    elif element<30:\n",
    "        agebinsq[4]+=1\n",
    "    elif element<35:\n",
    "        agebinsq[5]+=1\n",
    "    elif element<40:\n",
    "        agebinsq[6]+=1\n",
    "    elif element>=40:\n",
    "        agebinsq[7]+=1\n",
    "agebinspcnt=[]\n",
    "\n",
    "for element in agebinsq:\n",
    "    percent=element/sum(agebinsq)*100\n",
    "    percentstr=str(percent)\n",
    "    percentstr=percentstr[0:5]+\"%\"\n",
    "    agebinspcnt.append(percentstr)\n",
    "\n",
    "framedata={\"Age Bracket\":Agebins,\"Total Count\":agebinsq,\"Percentage of Players\":agebinspcnt}\n",
    "agedata_df=pd.DataFrame(framedata)\n",
    "agedata_df.style.hide_index()"
   ]
  },
  {
   "cell_type": "markdown",
   "metadata": {},
   "source": [
    "## Purchasing Analysis (Age)"
   ]
  },
  {
   "cell_type": "markdown",
   "metadata": {},
   "source": [
    "* Bin the purchase_data data frame by age\n",
    "\n",
    "\n",
    "* Run basic calculations to obtain purchase count, avg. purchase price, avg. purchase total per person etc. in the table below\n",
    "\n",
    "\n",
    "* Create a summary data frame to hold the results\n",
    "\n",
    "\n",
    "* Optional: give the displayed data cleaner formatting\n",
    "\n",
    "\n",
    "* Display the summary data frame"
   ]
  },
  {
   "cell_type": "code",
   "execution_count": 91,
   "metadata": {},
   "outputs": [
    {
     "output_type": "stream",
     "name": "stdout",
     "text": [
      "20\n40\n24\n24\n23\n22\n36\n20\n22\n35\n23\n23\n21\n22\n35\n21\n20\n21\n22\n30\n20\n20\n38\n40\n30\n29\n11\n7\n21\n24\n19\n37\n10\n7\n19\n22\n30\n8\n10\n21\n20\n20\n18\n24\n24\n23\n27\n20\n20\n33\n21\n22\n20\n32\n10\n25\n12\n21\n23\n19\n34\n17\n30\n20\n20\n25\n21\n20\n15\n24\n29\n20\n25\n21\n25\n33\n13\n34\n7\n26\n23\n8\n16\n25\n21\n32\n33\n20\n30\n22\n21\n20\n21\n22\n19\n18\n16\n20\n23\n23\n30\n21\n24\n24\n24\n27\n22\n36\n19\n22\n25\n21\n21\n15\n22\n28\n21\n21\n30\n15\n25\n23\n16\n27\n21\n20\n24\n37\n21\n19\n25\n22\n23\n20\n15\n30\n22\n20\n33\n13\n20\n10\n35\n34\n18\n23\n18\n35\n20\n17\n17\n25\n20\n21\n20\n10\n40\n18\n31\n25\n24\n20\n17\n11\n22\n15\n22\n23\n20\n16\n22\n30\n21\n30\n30\n17\n17\n30\n20\n24\n24\n16\n38\n21\n28\n20\n30\n8\n18\n23\n27\n23\n25\n27\n20\n39\n35\n24\n20\n15\n23\n31\n37\n33\n16\n17\n20\n24\n37\n22\n32\n17\n23\n29\n23\n15\n21\n38\n23\n19\n40\n30\n22\n22\n25\n24\n25\n18\n20\n17\n24\n26\n31\n19\n16\n24\n16\n20\n21\n30\n16\n22\n16\n24\n24\n20\n24\n20\n44\n20\n23\n22\n39\n21\n23\n24\n23\n26\n26\n20\n16\n24\n15\n24\n35\n25\n30\n16\n17\n15\n38\n22\n8\n15\n29\n30\n16\n24\n21\n20\n20\n19\n21\n21\n24\n26\n25\n20\n18\n25\n24\n20\n13\n22\n37\n23\n22\n16\n25\n11\n22\n25\n20\n24\n24\n20\n24\n34\n34\n25\n30\n8\n20\n23\n24\n23\n25\n18\n20\n33\n24\n33\n18\n23\n15\n23\n25\n22\n17\n20\n23\n23\n25\n17\n21\n33\n22\n15\n22\n8\n22\n41\n21\n23\n23\n19\n18\n23\n18\n20\n15\n21\n22\n25\n21\n15\n20\n23\n24\n18\n29\n25\n22\n25\n22\n25\n22\n30\n20\n23\n19\n23\n35\n25\n16\n25\n33\n20\n23\n18\n25\n16\n24\n34\n21\n22\n21\n26\n17\n15\n26\n18\n20\n20\n12\n17\n20\n25\n34\n19\n22\n15\n23\n24\n21\n25\n15\n19\n12\n15\n20\n10\n32\n12\n23\n22\n25\n30\n25\n33\n23\n30\n24\n24\n10\n15\n23\n24\n24\n22\n15\n33\n18\n21\n20\n21\n32\n24\n23\n22\n29\n15\n21\n26\n21\n25\n7\n22\n18\n13\n18\n15\n19\n24\n25\n20\n20\n25\n29\n30\n25\n24\n20\n25\n22\n24\n23\n16\n23\n24\n29\n23\n22\n21\n31\n24\n21\n41\n22\n21\n40\n7\n32\n35\n35\n26\n9\n14\n23\n28\n24\n22\n23\n14\n30\n24\n23\n15\n35\n24\n20\n32\n20\n23\n23\n19\n30\n22\n16\n23\n22\n21\n35\n25\n21\n7\n39\n39\n29\n24\n22\n37\n18\n24\n25\n24\n23\n24\n22\n21\n24\n12\n16\n19\n10\n20\n20\n25\n25\n11\n29\n31\n17\n24\n34\n16\n9\n18\n20\n25\n20\n20\n15\n28\n22\n23\n20\n42\n25\n23\n21\n22\n30\n38\n22\n20\n20\n20\n17\n20\n20\n16\n17\n26\n23\n9\n20\n19\n29\n25\n24\n23\n20\n20\n20\n22\n23\n22\n25\n30\n20\n20\n22\n25\n27\n22\n27\n15\n22\n15\n16\n11\n20\n25\n24\n18\n28\n15\n24\n25\n7\n16\n21\n21\n30\n20\n20\n16\n29\n15\n21\n20\n25\n21\n30\n20\n16\n25\n19\n25\n23\n27\n17\n22\n16\n29\n22\n24\n24\n27\n22\n20\n23\n21\n26\n17\n23\n24\n39\n15\n30\n24\n20\n32\n24\n15\n26\n21\n7\n36\n38\n20\n21\n25\n31\n17\n20\n40\n15\n22\n20\n30\n9\n30\n43\n16\n24\n27\n33\n10\n25\n33\n24\n15\n23\n22\n8\n35\n35\n33\n15\n24\n9\n23\n22\n38\n30\n19\n30\n17\n31\n25\n19\n21\n18\n22\n20\n20\n21\n19\n22\n20\n25\n22\n16\n23\n23\n30\n37\n16\n19\n20\n22\n21\n25\n18\n23\n20\n44\n20\n30\n22\n9\n20\n25\n24\n23\n22\n36\n35\n22\n19\n20\n15\n22\n39\n23\n38\n20\n20\n22\n11\n17\n36\n23\n12\n20\n18\n21\n25\n21\n45\n26\n21\n18\n18\n23\n8\n38\n15\n34\n16\n26\n21\n11\n21\n21\n20\n7\n24\n"
     ]
    }
   ],
   "source": [
    "#Establishing Bins\n",
    "Agebins=[\"<10\",\"10-14\",\"15-19\",\"20-24\",\"25-29\",\"30-34\",\"35-39\",\"40+\"]\n",
    "agebinsq=[0,0,0,0,0,0,0,0]\n",
    "#Do this using loc for each age group"
   ]
  },
  {
   "cell_type": "code",
   "execution_count": 7,
   "metadata": {},
   "outputs": [
    {
     "data": {
      "text/html": [
       "<div>\n",
       "<style scoped>\n",
       "    .dataframe tbody tr th:only-of-type {\n",
       "        vertical-align: middle;\n",
       "    }\n",
       "\n",
       "    .dataframe tbody tr th {\n",
       "        vertical-align: top;\n",
       "    }\n",
       "\n",
       "    .dataframe thead th {\n",
       "        text-align: right;\n",
       "    }\n",
       "</style>\n",
       "<table border=\"1\" class=\"dataframe\">\n",
       "  <thead>\n",
       "    <tr style=\"text-align: right;\">\n",
       "      <th></th>\n",
       "      <th>Purchase Count</th>\n",
       "      <th>Average Purchase Price</th>\n",
       "      <th>Total Purchase Value</th>\n",
       "      <th>Avg Total Purchase per Person</th>\n",
       "    </tr>\n",
       "    <tr>\n",
       "      <th>Age Ranges</th>\n",
       "      <th></th>\n",
       "      <th></th>\n",
       "      <th></th>\n",
       "      <th></th>\n",
       "    </tr>\n",
       "  </thead>\n",
       "  <tbody>\n",
       "    <tr>\n",
       "      <th>&lt;10</th>\n",
       "      <td>23</td>\n",
       "      <td>$3.35</td>\n",
       "      <td>$77.13</td>\n",
       "      <td>$4.54</td>\n",
       "    </tr>\n",
       "    <tr>\n",
       "      <th>10-14</th>\n",
       "      <td>28</td>\n",
       "      <td>$2.96</td>\n",
       "      <td>$82.78</td>\n",
       "      <td>$3.76</td>\n",
       "    </tr>\n",
       "    <tr>\n",
       "      <th>15-19</th>\n",
       "      <td>136</td>\n",
       "      <td>$3.04</td>\n",
       "      <td>$412.89</td>\n",
       "      <td>$3.86</td>\n",
       "    </tr>\n",
       "    <tr>\n",
       "      <th>20-24</th>\n",
       "      <td>365</td>\n",
       "      <td>$3.05</td>\n",
       "      <td>$1,114.06</td>\n",
       "      <td>$4.32</td>\n",
       "    </tr>\n",
       "    <tr>\n",
       "      <th>25-29</th>\n",
       "      <td>101</td>\n",
       "      <td>$2.90</td>\n",
       "      <td>$293.00</td>\n",
       "      <td>$3.81</td>\n",
       "    </tr>\n",
       "    <tr>\n",
       "      <th>30-34</th>\n",
       "      <td>73</td>\n",
       "      <td>$2.93</td>\n",
       "      <td>$214.00</td>\n",
       "      <td>$4.12</td>\n",
       "    </tr>\n",
       "    <tr>\n",
       "      <th>35-39</th>\n",
       "      <td>41</td>\n",
       "      <td>$3.60</td>\n",
       "      <td>$147.67</td>\n",
       "      <td>$4.76</td>\n",
       "    </tr>\n",
       "    <tr>\n",
       "      <th>40+</th>\n",
       "      <td>13</td>\n",
       "      <td>$2.94</td>\n",
       "      <td>$38.24</td>\n",
       "      <td>$3.19</td>\n",
       "    </tr>\n",
       "  </tbody>\n",
       "</table>\n",
       "</div>"
      ],
      "text/plain": [
       "           Purchase Count Average Purchase Price Total Purchase Value  \\\n",
       "Age Ranges                                                              \n",
       "<10                    23                  $3.35               $77.13   \n",
       "10-14                  28                  $2.96               $82.78   \n",
       "15-19                 136                  $3.04              $412.89   \n",
       "20-24                 365                  $3.05            $1,114.06   \n",
       "25-29                 101                  $2.90              $293.00   \n",
       "30-34                  73                  $2.93              $214.00   \n",
       "35-39                  41                  $3.60              $147.67   \n",
       "40+                    13                  $2.94               $38.24   \n",
       "\n",
       "           Avg Total Purchase per Person  \n",
       "Age Ranges                                \n",
       "<10                                $4.54  \n",
       "10-14                              $3.76  \n",
       "15-19                              $3.86  \n",
       "20-24                              $4.32  \n",
       "25-29                              $3.81  \n",
       "30-34                              $4.12  \n",
       "35-39                              $4.76  \n",
       "40+                                $3.19  "
      ]
     },
     "execution_count": 7,
     "metadata": {},
     "output_type": "execute_result"
    }
   ],
   "source": []
  },
  {
   "cell_type": "markdown",
   "metadata": {},
   "source": [
    "## Top Spenders"
   ]
  },
  {
   "cell_type": "markdown",
   "metadata": {},
   "source": [
    "* Run basic calculations to obtain the results in the table below\n",
    "\n",
    "\n",
    "* Create a summary data frame to hold the results\n",
    "\n",
    "\n",
    "* Sort the total purchase value column in descending order\n",
    "\n",
    "\n",
    "* Optional: give the displayed data cleaner formatting\n",
    "\n",
    "\n",
    "* Display a preview of the summary data frame\n",
    "\n"
   ]
  },
  {
   "cell_type": "code",
   "execution_count": 8,
   "metadata": {},
   "outputs": [
    {
     "data": {
      "text/html": [
       "<div>\n",
       "<style scoped>\n",
       "    .dataframe tbody tr th:only-of-type {\n",
       "        vertical-align: middle;\n",
       "    }\n",
       "\n",
       "    .dataframe tbody tr th {\n",
       "        vertical-align: top;\n",
       "    }\n",
       "\n",
       "    .dataframe thead th {\n",
       "        text-align: right;\n",
       "    }\n",
       "</style>\n",
       "<table border=\"1\" class=\"dataframe\">\n",
       "  <thead>\n",
       "    <tr style=\"text-align: right;\">\n",
       "      <th></th>\n",
       "      <th>Purchase Count</th>\n",
       "      <th>Average Purchase Price</th>\n",
       "      <th>Total Purchase Value</th>\n",
       "    </tr>\n",
       "    <tr>\n",
       "      <th>SN</th>\n",
       "      <th></th>\n",
       "      <th></th>\n",
       "      <th></th>\n",
       "    </tr>\n",
       "  </thead>\n",
       "  <tbody>\n",
       "    <tr>\n",
       "      <th>Lisosia93</th>\n",
       "      <td>5</td>\n",
       "      <td>$3.79</td>\n",
       "      <td>$18.96</td>\n",
       "    </tr>\n",
       "    <tr>\n",
       "      <th>Idastidru52</th>\n",
       "      <td>4</td>\n",
       "      <td>$3.86</td>\n",
       "      <td>$15.45</td>\n",
       "    </tr>\n",
       "    <tr>\n",
       "      <th>Chamjask73</th>\n",
       "      <td>3</td>\n",
       "      <td>$4.61</td>\n",
       "      <td>$13.83</td>\n",
       "    </tr>\n",
       "    <tr>\n",
       "      <th>Iral74</th>\n",
       "      <td>4</td>\n",
       "      <td>$3.40</td>\n",
       "      <td>$13.62</td>\n",
       "    </tr>\n",
       "    <tr>\n",
       "      <th>Iskadarya95</th>\n",
       "      <td>3</td>\n",
       "      <td>$4.37</td>\n",
       "      <td>$13.10</td>\n",
       "    </tr>\n",
       "  </tbody>\n",
       "</table>\n",
       "</div>"
      ],
      "text/plain": [
       "             Purchase Count Average Purchase Price Total Purchase Value\n",
       "SN                                                                     \n",
       "Lisosia93                 5                  $3.79               $18.96\n",
       "Idastidru52               4                  $3.86               $15.45\n",
       "Chamjask73                3                  $4.61               $13.83\n",
       "Iral74                    4                  $3.40               $13.62\n",
       "Iskadarya95               3                  $4.37               $13.10"
      ]
     },
     "execution_count": 8,
     "metadata": {},
     "output_type": "execute_result"
    }
   ],
   "source": []
  },
  {
   "cell_type": "markdown",
   "metadata": {},
   "source": [
    "## Most Popular Items"
   ]
  },
  {
   "cell_type": "markdown",
   "metadata": {},
   "source": [
    "* Retrieve the Item ID, Item Name, and Item Price columns\n",
    "\n",
    "\n",
    "* Group by Item ID and Item Name. Perform calculations to obtain purchase count, average item price, and total purchase value\n",
    "\n",
    "\n",
    "* Create a summary data frame to hold the results\n",
    "\n",
    "\n",
    "* Sort the purchase count column in descending order\n",
    "\n",
    "\n",
    "* Optional: give the displayed data cleaner formatting\n",
    "\n",
    "\n",
    "* Display a preview of the summary data frame\n",
    "\n"
   ]
  },
  {
   "cell_type": "code",
   "execution_count": 9,
   "metadata": {},
   "outputs": [
    {
     "data": {
      "text/html": [
       "<div>\n",
       "<style scoped>\n",
       "    .dataframe tbody tr th:only-of-type {\n",
       "        vertical-align: middle;\n",
       "    }\n",
       "\n",
       "    .dataframe tbody tr th {\n",
       "        vertical-align: top;\n",
       "    }\n",
       "\n",
       "    .dataframe thead th {\n",
       "        text-align: right;\n",
       "    }\n",
       "</style>\n",
       "<table border=\"1\" class=\"dataframe\">\n",
       "  <thead>\n",
       "    <tr style=\"text-align: right;\">\n",
       "      <th></th>\n",
       "      <th></th>\n",
       "      <th>Purchase Count</th>\n",
       "      <th>Item Price</th>\n",
       "      <th>Total Purchase Value</th>\n",
       "    </tr>\n",
       "    <tr>\n",
       "      <th>Item ID</th>\n",
       "      <th>Item Name</th>\n",
       "      <th></th>\n",
       "      <th></th>\n",
       "      <th></th>\n",
       "    </tr>\n",
       "  </thead>\n",
       "  <tbody>\n",
       "    <tr>\n",
       "      <th>92</th>\n",
       "      <th>Final Critic</th>\n",
       "      <td>13</td>\n",
       "      <td>$4.61</td>\n",
       "      <td>$59.99</td>\n",
       "    </tr>\n",
       "    <tr>\n",
       "      <th>178</th>\n",
       "      <th>Oathbreaker, Last Hope of the Breaking Storm</th>\n",
       "      <td>12</td>\n",
       "      <td>$4.23</td>\n",
       "      <td>$50.76</td>\n",
       "    </tr>\n",
       "    <tr>\n",
       "      <th>145</th>\n",
       "      <th>Fiery Glass Crusader</th>\n",
       "      <td>9</td>\n",
       "      <td>$4.58</td>\n",
       "      <td>$41.22</td>\n",
       "    </tr>\n",
       "    <tr>\n",
       "      <th>132</th>\n",
       "      <th>Persuasion</th>\n",
       "      <td>9</td>\n",
       "      <td>$3.22</td>\n",
       "      <td>$28.99</td>\n",
       "    </tr>\n",
       "    <tr>\n",
       "      <th>108</th>\n",
       "      <th>Extraction, Quickblade Of Trembling Hands</th>\n",
       "      <td>9</td>\n",
       "      <td>$3.53</td>\n",
       "      <td>$31.77</td>\n",
       "    </tr>\n",
       "  </tbody>\n",
       "</table>\n",
       "</div>"
      ],
      "text/plain": [
       "                                                     Purchase Count  \\\n",
       "Item ID Item Name                                                     \n",
       "92      Final Critic                                             13   \n",
       "178     Oathbreaker, Last Hope of the Breaking Storm             12   \n",
       "145     Fiery Glass Crusader                                      9   \n",
       "132     Persuasion                                                9   \n",
       "108     Extraction, Quickblade Of Trembling Hands                 9   \n",
       "\n",
       "                                                     Item Price  \\\n",
       "Item ID Item Name                                                 \n",
       "92      Final Critic                                      $4.61   \n",
       "178     Oathbreaker, Last Hope of the Breaking Storm      $4.23   \n",
       "145     Fiery Glass Crusader                              $4.58   \n",
       "132     Persuasion                                        $3.22   \n",
       "108     Extraction, Quickblade Of Trembling Hands         $3.53   \n",
       "\n",
       "                                                     Total Purchase Value  \n",
       "Item ID Item Name                                                          \n",
       "92      Final Critic                                               $59.99  \n",
       "178     Oathbreaker, Last Hope of the Breaking Storm               $50.76  \n",
       "145     Fiery Glass Crusader                                       $41.22  \n",
       "132     Persuasion                                                 $28.99  \n",
       "108     Extraction, Quickblade Of Trembling Hands                  $31.77  "
      ]
     },
     "execution_count": 9,
     "metadata": {},
     "output_type": "execute_result"
    }
   ],
   "source": []
  },
  {
   "cell_type": "markdown",
   "metadata": {},
   "source": [
    "## Most Profitable Items"
   ]
  },
  {
   "cell_type": "markdown",
   "metadata": {},
   "source": [
    "* Sort the above table by total purchase value in descending order\n",
    "\n",
    "\n",
    "* Optional: give the displayed data cleaner formatting\n",
    "\n",
    "\n",
    "* Display a preview of the data frame\n",
    "\n"
   ]
  },
  {
   "cell_type": "code",
   "execution_count": 10,
   "metadata": {
    "scrolled": true
   },
   "outputs": [
    {
     "data": {
      "text/html": [
       "<div>\n",
       "<style scoped>\n",
       "    .dataframe tbody tr th:only-of-type {\n",
       "        vertical-align: middle;\n",
       "    }\n",
       "\n",
       "    .dataframe tbody tr th {\n",
       "        vertical-align: top;\n",
       "    }\n",
       "\n",
       "    .dataframe thead th {\n",
       "        text-align: right;\n",
       "    }\n",
       "</style>\n",
       "<table border=\"1\" class=\"dataframe\">\n",
       "  <thead>\n",
       "    <tr style=\"text-align: right;\">\n",
       "      <th></th>\n",
       "      <th></th>\n",
       "      <th>Purchase Count</th>\n",
       "      <th>Item Price</th>\n",
       "      <th>Total Purchase Value</th>\n",
       "    </tr>\n",
       "    <tr>\n",
       "      <th>Item ID</th>\n",
       "      <th>Item Name</th>\n",
       "      <th></th>\n",
       "      <th></th>\n",
       "      <th></th>\n",
       "    </tr>\n",
       "  </thead>\n",
       "  <tbody>\n",
       "    <tr>\n",
       "      <th>92</th>\n",
       "      <th>Final Critic</th>\n",
       "      <td>13</td>\n",
       "      <td>$4.61</td>\n",
       "      <td>$59.99</td>\n",
       "    </tr>\n",
       "    <tr>\n",
       "      <th>178</th>\n",
       "      <th>Oathbreaker, Last Hope of the Breaking Storm</th>\n",
       "      <td>12</td>\n",
       "      <td>$4.23</td>\n",
       "      <td>$50.76</td>\n",
       "    </tr>\n",
       "    <tr>\n",
       "      <th>82</th>\n",
       "      <th>Nirvana</th>\n",
       "      <td>9</td>\n",
       "      <td>$4.90</td>\n",
       "      <td>$44.10</td>\n",
       "    </tr>\n",
       "    <tr>\n",
       "      <th>145</th>\n",
       "      <th>Fiery Glass Crusader</th>\n",
       "      <td>9</td>\n",
       "      <td>$4.58</td>\n",
       "      <td>$41.22</td>\n",
       "    </tr>\n",
       "    <tr>\n",
       "      <th>103</th>\n",
       "      <th>Singed Scalpel</th>\n",
       "      <td>8</td>\n",
       "      <td>$4.35</td>\n",
       "      <td>$34.80</td>\n",
       "    </tr>\n",
       "  </tbody>\n",
       "</table>\n",
       "</div>"
      ],
      "text/plain": [
       "                                                     Purchase Count  \\\n",
       "Item ID Item Name                                                     \n",
       "92      Final Critic                                             13   \n",
       "178     Oathbreaker, Last Hope of the Breaking Storm             12   \n",
       "82      Nirvana                                                   9   \n",
       "145     Fiery Glass Crusader                                      9   \n",
       "103     Singed Scalpel                                            8   \n",
       "\n",
       "                                                     Item Price  \\\n",
       "Item ID Item Name                                                 \n",
       "92      Final Critic                                      $4.61   \n",
       "178     Oathbreaker, Last Hope of the Breaking Storm      $4.23   \n",
       "82      Nirvana                                           $4.90   \n",
       "145     Fiery Glass Crusader                              $4.58   \n",
       "103     Singed Scalpel                                    $4.35   \n",
       "\n",
       "                                                     Total Purchase Value  \n",
       "Item ID Item Name                                                          \n",
       "92      Final Critic                                               $59.99  \n",
       "178     Oathbreaker, Last Hope of the Breaking Storm               $50.76  \n",
       "82      Nirvana                                                    $44.10  \n",
       "145     Fiery Glass Crusader                                       $41.22  \n",
       "103     Singed Scalpel                                             $34.80  "
      ]
     },
     "execution_count": 10,
     "metadata": {},
     "output_type": "execute_result"
    }
   ],
   "source": []
  }
 ],
 "metadata": {
  "anaconda-cloud": {},
  "kernel_info": {
   "name": "python3"
  },
  "kernelspec": {
   "display_name": "Python 3",
   "language": "python",
   "name": "python3"
  },
  "language_info": {
   "codemirror_mode": {
    "name": "ipython",
    "version": 3
   },
   "file_extension": ".py",
   "mimetype": "text/x-python",
   "name": "python",
   "nbconvert_exporter": "python",
   "pygments_lexer": "ipython3",
   "version": "3.8.5"
  },
  "latex_envs": {
   "LaTeX_envs_menu_present": true,
   "autoclose": false,
   "autocomplete": true,
   "bibliofile": "biblio.bib",
   "cite_by": "apalike",
   "current_citInitial": 1,
   "eqLabelWithNumbers": true,
   "eqNumInitial": 1,
   "hotkeys": {
    "equation": "Ctrl-E",
    "itemize": "Ctrl-I"
   },
   "labels_anchors": false,
   "latex_user_defs": false,
   "report_style_numbering": false,
   "user_envs_cfg": false
  },
  "nteract": {
   "version": "0.2.0"
  }
 },
 "nbformat": 4,
 "nbformat_minor": 2
}